{
  "cells": [
    {
      "cell_type": "markdown",
      "source": [
        "# Convolve Epoch 2- Problem Statement 3: Sentiment Analysis\n",
        "\n",
        "We are focussing on problem statement 3 which involves sentiment analysis of customer feedback of Cisco products to identify negative and positive reviews\n",
        "\n",
        "We are using an open-source library, Flair, for this. It gives us high accuracy and F1 score."
      ],
      "metadata": {
        "id": "U7d550DE3DFf"
      }
    },
    {
      "cell_type": "markdown",
      "source": [
        "# Imports, download datasets, pre-process datasets"
      ],
      "metadata": {
        "id": "U7pgKkxjFCtR"
      }
    },
    {
      "cell_type": "code",
      "execution_count": null,
      "metadata": {
        "id": "39mPCaoAtsdw"
      },
      "outputs": [],
      "source": [
        "# install Flair library\n",
        "!pip install flair"
      ]
    },
    {
      "cell_type": "code",
      "execution_count": null,
      "metadata": {
        "id": "XLAUVEF5tsdq"
      },
      "outputs": [],
      "source": [
        "# imports\n",
        "import os\n",
        "\n",
        "#Pandas, NumPy for data handling\n",
        "import numpy as np \n",
        "import pandas as pd\n",
        "\n",
        "#PyTorch for optimizers, schedulers\n",
        "import torch\n",
        "from torch.optim.lr_scheduler import CosineAnnealingLR\n",
        "from torch.optim import AdamW\n",
        "\n",
        "#Flair for the pre-trained model and trainer\n",
        "from flair.models import TextClassifier\n",
        "from flair.data import Sentence\n",
        "from flair.trainers import ModelTrainer\n",
        "from flair.data import Corpus\n",
        "from flair.datasets import CSVClassificationCorpus\n",
        "from flair.embeddings import DocumentRNNEmbeddings\n",
        "from flair.embeddings import TransformerWordEmbeddings\n",
        "from flair.visual.training_curves import Plotter"
      ]
    },
    {
      "cell_type": "code",
      "execution_count": null,
      "metadata": {
        "id": "RvPnfgoDEjtt"
      },
      "outputs": [],
      "source": [
        "# make a directory for training and testing data\n",
        "\n",
        "!mkdir /content/data"
      ]
    },
    {
      "cell_type": "code",
      "source": [
        "# download the training and testing data\n",
        "\n",
        "!gdown 1VmpeZgh9reH3dUYRUlaqQsj2mh3hhdb- -O /content/data/PS3_train.xlsx\n",
        "!gdown 1S-_MQQGbBg18OAIawUk7zuIZg62dTy88 -O /content/data/PS3_test.xlsx"
      ],
      "metadata": {
        "id": "TNkXtopuKEb3"
      },
      "execution_count": null,
      "outputs": []
    },
    {
      "cell_type": "code",
      "source": [
        "# reorganize the dataset, convert to .csv format required for Flair module\n",
        "\n",
        "review_df_train = pd.DataFrame(pd.read_excel(\"/content/data/PS3_train.xlsx\"))\n",
        "review_df_train.rename(columns={\"Verbatim Feedback \":\"text\", \"Sentiment (1=Positive & 0= Negative)\":\"label\"}, inplace=True)\n",
        "review_df_train.to_csv(\"/content/data/train.csv\", index=False, header=True)\n",
        "\n",
        "review_df_test = pd.DataFrame(pd.read_excel(\"/content/data/PS3_test.xlsx\"))\n",
        "review_df_test.to_csv(\"/content/data/test.csv\", index=False, header=True)"
      ],
      "metadata": {
        "id": "ztwvyrJf5mPA"
      },
      "execution_count": null,
      "outputs": []
    },
    {
      "cell_type": "code",
      "source": [
        "# remove the unnecessary .xlsx files\n",
        "\n",
        "!rm /content/data/PS3_train.xlsx\n",
        "!rm /content/data/PS3_test.xlsx"
      ],
      "metadata": {
        "id": "zBNqqgm_RE0L"
      },
      "execution_count": null,
      "outputs": []
    },
    {
      "cell_type": "markdown",
      "source": [
        "# Create the model and training it"
      ],
      "metadata": {
        "id": "C4PtJwBYE6N4"
      }
    },
    {
      "cell_type": "code",
      "execution_count": null,
      "metadata": {
        "colab": {
          "base_uri": "https://localhost:8080/",
          "height": 1000
        },
        "id": "te1SV9ZhbUbr",
        "outputId": "67d82db3-3f4c-49f0-9440-55344c4b1a5c"
      },
      "outputs": [
        {
          "output_type": "stream",
          "name": "stdout",
          "text": [
            "2023-01-02 06:16:07,971 Reading data from /content/data\n",
            "2023-01-02 06:16:07,973 Train: /content/data/train.csv\n",
            "2023-01-02 06:16:07,975 Dev: None\n",
            "2023-01-02 06:16:07,978 Test: /content/data/test.csv\n",
            "2023-01-02 06:16:07,982 Computing label dictionary. Progress:\n"
          ]
        },
        {
          "output_type": "stream",
          "name": "stderr",
          "text": [
            "348it [00:00, 6174.30it/s]"
          ]
        },
        {
          "output_type": "stream",
          "name": "stdout",
          "text": [
            "2023-01-02 06:16:08,045 Dictionary created for label 'class' with 3 values: negative (seen 195 times), positive (seen 153 times)\n"
          ]
        },
        {
          "output_type": "stream",
          "name": "stderr",
          "text": [
            "\n"
          ]
        },
        {
          "output_type": "stream",
          "name": "stdout",
          "text": [
            "2023-01-02 06:16:14,684 ----------------------------------------------------------------------------------------------------\n",
            "2023-01-02 06:16:14,690 Model: \"TextClassifier(\n",
            "  (decoder): Linear(in_features=512, out_features=3, bias=True)\n",
            "  (dropout): Dropout(p=0.0, inplace=False)\n",
            "  (locked_dropout): LockedDropout(p=0.0)\n",
            "  (word_dropout): WordDropout(p=0.0)\n",
            "  (loss_function): CrossEntropyLoss()\n",
            "  (document_embeddings): DocumentRNNEmbeddings(\n",
            "    (embeddings): StackedEmbeddings(\n",
            "      (list_embedding_0): TransformerWordEmbeddings(\n",
            "        (model): RobertaModel(\n",
            "          (embeddings): RobertaEmbeddings(\n",
            "            (word_embeddings): Embedding(50265, 768, padding_idx=1)\n",
            "            (position_embeddings): Embedding(514, 768, padding_idx=1)\n",
            "            (token_type_embeddings): Embedding(1, 768)\n",
            "            (LayerNorm): LayerNorm((768,), eps=1e-05, elementwise_affine=True)\n",
            "            (dropout): Dropout(p=0.1, inplace=False)\n",
            "          )\n",
            "          (encoder): RobertaEncoder(\n",
            "            (layer): ModuleList(\n",
            "              (0): RobertaLayer(\n",
            "                (attention): RobertaAttention(\n",
            "                  (self): RobertaSelfAttention(\n",
            "                    (query): Linear(in_features=768, out_features=768, bias=True)\n",
            "                    (key): Linear(in_features=768, out_features=768, bias=True)\n",
            "                    (value): Linear(in_features=768, out_features=768, bias=True)\n",
            "                    (dropout): Dropout(p=0.1, inplace=False)\n",
            "                  )\n",
            "                  (output): RobertaSelfOutput(\n",
            "                    (dense): Linear(in_features=768, out_features=768, bias=True)\n",
            "                    (LayerNorm): LayerNorm((768,), eps=1e-05, elementwise_affine=True)\n",
            "                    (dropout): Dropout(p=0.1, inplace=False)\n",
            "                  )\n",
            "                )\n",
            "                (intermediate): RobertaIntermediate(\n",
            "                  (dense): Linear(in_features=768, out_features=3072, bias=True)\n",
            "                  (intermediate_act_fn): GELUActivation()\n",
            "                )\n",
            "                (output): RobertaOutput(\n",
            "                  (dense): Linear(in_features=3072, out_features=768, bias=True)\n",
            "                  (LayerNorm): LayerNorm((768,), eps=1e-05, elementwise_affine=True)\n",
            "                  (dropout): Dropout(p=0.1, inplace=False)\n",
            "                )\n",
            "              )\n",
            "              (1): RobertaLayer(\n",
            "                (attention): RobertaAttention(\n",
            "                  (self): RobertaSelfAttention(\n",
            "                    (query): Linear(in_features=768, out_features=768, bias=True)\n",
            "                    (key): Linear(in_features=768, out_features=768, bias=True)\n",
            "                    (value): Linear(in_features=768, out_features=768, bias=True)\n",
            "                    (dropout): Dropout(p=0.1, inplace=False)\n",
            "                  )\n",
            "                  (output): RobertaSelfOutput(\n",
            "                    (dense): Linear(in_features=768, out_features=768, bias=True)\n",
            "                    (LayerNorm): LayerNorm((768,), eps=1e-05, elementwise_affine=True)\n",
            "                    (dropout): Dropout(p=0.1, inplace=False)\n",
            "                  )\n",
            "                )\n",
            "                (intermediate): RobertaIntermediate(\n",
            "                  (dense): Linear(in_features=768, out_features=3072, bias=True)\n",
            "                  (intermediate_act_fn): GELUActivation()\n",
            "                )\n",
            "                (output): RobertaOutput(\n",
            "                  (dense): Linear(in_features=3072, out_features=768, bias=True)\n",
            "                  (LayerNorm): LayerNorm((768,), eps=1e-05, elementwise_affine=True)\n",
            "                  (dropout): Dropout(p=0.1, inplace=False)\n",
            "                )\n",
            "              )\n",
            "              (2): RobertaLayer(\n",
            "                (attention): RobertaAttention(\n",
            "                  (self): RobertaSelfAttention(\n",
            "                    (query): Linear(in_features=768, out_features=768, bias=True)\n",
            "                    (key): Linear(in_features=768, out_features=768, bias=True)\n",
            "                    (value): Linear(in_features=768, out_features=768, bias=True)\n",
            "                    (dropout): Dropout(p=0.1, inplace=False)\n",
            "                  )\n",
            "                  (output): RobertaSelfOutput(\n",
            "                    (dense): Linear(in_features=768, out_features=768, bias=True)\n",
            "                    (LayerNorm): LayerNorm((768,), eps=1e-05, elementwise_affine=True)\n",
            "                    (dropout): Dropout(p=0.1, inplace=False)\n",
            "                  )\n",
            "                )\n",
            "                (intermediate): RobertaIntermediate(\n",
            "                  (dense): Linear(in_features=768, out_features=3072, bias=True)\n",
            "                  (intermediate_act_fn): GELUActivation()\n",
            "                )\n",
            "                (output): RobertaOutput(\n",
            "                  (dense): Linear(in_features=3072, out_features=768, bias=True)\n",
            "                  (LayerNorm): LayerNorm((768,), eps=1e-05, elementwise_affine=True)\n",
            "                  (dropout): Dropout(p=0.1, inplace=False)\n",
            "                )\n",
            "              )\n",
            "              (3): RobertaLayer(\n",
            "                (attention): RobertaAttention(\n",
            "                  (self): RobertaSelfAttention(\n",
            "                    (query): Linear(in_features=768, out_features=768, bias=True)\n",
            "                    (key): Linear(in_features=768, out_features=768, bias=True)\n",
            "                    (value): Linear(in_features=768, out_features=768, bias=True)\n",
            "                    (dropout): Dropout(p=0.1, inplace=False)\n",
            "                  )\n",
            "                  (output): RobertaSelfOutput(\n",
            "                    (dense): Linear(in_features=768, out_features=768, bias=True)\n",
            "                    (LayerNorm): LayerNorm((768,), eps=1e-05, elementwise_affine=True)\n",
            "                    (dropout): Dropout(p=0.1, inplace=False)\n",
            "                  )\n",
            "                )\n",
            "                (intermediate): RobertaIntermediate(\n",
            "                  (dense): Linear(in_features=768, out_features=3072, bias=True)\n",
            "                  (intermediate_act_fn): GELUActivation()\n",
            "                )\n",
            "                (output): RobertaOutput(\n",
            "                  (dense): Linear(in_features=3072, out_features=768, bias=True)\n",
            "                  (LayerNorm): LayerNorm((768,), eps=1e-05, elementwise_affine=True)\n",
            "                  (dropout): Dropout(p=0.1, inplace=False)\n",
            "                )\n",
            "              )\n",
            "              (4): RobertaLayer(\n",
            "                (attention): RobertaAttention(\n",
            "                  (self): RobertaSelfAttention(\n",
            "                    (query): Linear(in_features=768, out_features=768, bias=True)\n",
            "                    (key): Linear(in_features=768, out_features=768, bias=True)\n",
            "                    (value): Linear(in_features=768, out_features=768, bias=True)\n",
            "                    (dropout): Dropout(p=0.1, inplace=False)\n",
            "                  )\n",
            "                  (output): RobertaSelfOutput(\n",
            "                    (dense): Linear(in_features=768, out_features=768, bias=True)\n",
            "                    (LayerNorm): LayerNorm((768,), eps=1e-05, elementwise_affine=True)\n",
            "                    (dropout): Dropout(p=0.1, inplace=False)\n",
            "                  )\n",
            "                )\n",
            "                (intermediate): RobertaIntermediate(\n",
            "                  (dense): Linear(in_features=768, out_features=3072, bias=True)\n",
            "                  (intermediate_act_fn): GELUActivation()\n",
            "                )\n",
            "                (output): RobertaOutput(\n",
            "                  (dense): Linear(in_features=3072, out_features=768, bias=True)\n",
            "                  (LayerNorm): LayerNorm((768,), eps=1e-05, elementwise_affine=True)\n",
            "                  (dropout): Dropout(p=0.1, inplace=False)\n",
            "                )\n",
            "              )\n",
            "              (5): RobertaLayer(\n",
            "                (attention): RobertaAttention(\n",
            "                  (self): RobertaSelfAttention(\n",
            "                    (query): Linear(in_features=768, out_features=768, bias=True)\n",
            "                    (key): Linear(in_features=768, out_features=768, bias=True)\n",
            "                    (value): Linear(in_features=768, out_features=768, bias=True)\n",
            "                    (dropout): Dropout(p=0.1, inplace=False)\n",
            "                  )\n",
            "                  (output): RobertaSelfOutput(\n",
            "                    (dense): Linear(in_features=768, out_features=768, bias=True)\n",
            "                    (LayerNorm): LayerNorm((768,), eps=1e-05, elementwise_affine=True)\n",
            "                    (dropout): Dropout(p=0.1, inplace=False)\n",
            "                  )\n",
            "                )\n",
            "                (intermediate): RobertaIntermediate(\n",
            "                  (dense): Linear(in_features=768, out_features=3072, bias=True)\n",
            "                  (intermediate_act_fn): GELUActivation()\n",
            "                )\n",
            "                (output): RobertaOutput(\n",
            "                  (dense): Linear(in_features=3072, out_features=768, bias=True)\n",
            "                  (LayerNorm): LayerNorm((768,), eps=1e-05, elementwise_affine=True)\n",
            "                  (dropout): Dropout(p=0.1, inplace=False)\n",
            "                )\n",
            "              )\n",
            "              (6): RobertaLayer(\n",
            "                (attention): RobertaAttention(\n",
            "                  (self): RobertaSelfAttention(\n",
            "                    (query): Linear(in_features=768, out_features=768, bias=True)\n",
            "                    (key): Linear(in_features=768, out_features=768, bias=True)\n",
            "                    (value): Linear(in_features=768, out_features=768, bias=True)\n",
            "                    (dropout): Dropout(p=0.1, inplace=False)\n",
            "                  )\n",
            "                  (output): RobertaSelfOutput(\n",
            "                    (dense): Linear(in_features=768, out_features=768, bias=True)\n",
            "                    (LayerNorm): LayerNorm((768,), eps=1e-05, elementwise_affine=True)\n",
            "                    (dropout): Dropout(p=0.1, inplace=False)\n",
            "                  )\n",
            "                )\n",
            "                (intermediate): RobertaIntermediate(\n",
            "                  (dense): Linear(in_features=768, out_features=3072, bias=True)\n",
            "                  (intermediate_act_fn): GELUActivation()\n",
            "                )\n",
            "                (output): RobertaOutput(\n",
            "                  (dense): Linear(in_features=3072, out_features=768, bias=True)\n",
            "                  (LayerNorm): LayerNorm((768,), eps=1e-05, elementwise_affine=True)\n",
            "                  (dropout): Dropout(p=0.1, inplace=False)\n",
            "                )\n",
            "              )\n",
            "              (7): RobertaLayer(\n",
            "                (attention): RobertaAttention(\n",
            "                  (self): RobertaSelfAttention(\n",
            "                    (query): Linear(in_features=768, out_features=768, bias=True)\n",
            "                    (key): Linear(in_features=768, out_features=768, bias=True)\n",
            "                    (value): Linear(in_features=768, out_features=768, bias=True)\n",
            "                    (dropout): Dropout(p=0.1, inplace=False)\n",
            "                  )\n",
            "                  (output): RobertaSelfOutput(\n",
            "                    (dense): Linear(in_features=768, out_features=768, bias=True)\n",
            "                    (LayerNorm): LayerNorm((768,), eps=1e-05, elementwise_affine=True)\n",
            "                    (dropout): Dropout(p=0.1, inplace=False)\n",
            "                  )\n",
            "                )\n",
            "                (intermediate): RobertaIntermediate(\n",
            "                  (dense): Linear(in_features=768, out_features=3072, bias=True)\n",
            "                  (intermediate_act_fn): GELUActivation()\n",
            "                )\n",
            "                (output): RobertaOutput(\n",
            "                  (dense): Linear(in_features=3072, out_features=768, bias=True)\n",
            "                  (LayerNorm): LayerNorm((768,), eps=1e-05, elementwise_affine=True)\n",
            "                  (dropout): Dropout(p=0.1, inplace=False)\n",
            "                )\n",
            "              )\n",
            "              (8): RobertaLayer(\n",
            "                (attention): RobertaAttention(\n",
            "                  (self): RobertaSelfAttention(\n",
            "                    (query): Linear(in_features=768, out_features=768, bias=True)\n",
            "                    (key): Linear(in_features=768, out_features=768, bias=True)\n",
            "                    (value): Linear(in_features=768, out_features=768, bias=True)\n",
            "                    (dropout): Dropout(p=0.1, inplace=False)\n",
            "                  )\n",
            "                  (output): RobertaSelfOutput(\n",
            "                    (dense): Linear(in_features=768, out_features=768, bias=True)\n",
            "                    (LayerNorm): LayerNorm((768,), eps=1e-05, elementwise_affine=True)\n",
            "                    (dropout): Dropout(p=0.1, inplace=False)\n",
            "                  )\n",
            "                )\n",
            "                (intermediate): RobertaIntermediate(\n",
            "                  (dense): Linear(in_features=768, out_features=3072, bias=True)\n",
            "                  (intermediate_act_fn): GELUActivation()\n",
            "                )\n",
            "                (output): RobertaOutput(\n",
            "                  (dense): Linear(in_features=3072, out_features=768, bias=True)\n",
            "                  (LayerNorm): LayerNorm((768,), eps=1e-05, elementwise_affine=True)\n",
            "                  (dropout): Dropout(p=0.1, inplace=False)\n",
            "                )\n",
            "              )\n",
            "              (9): RobertaLayer(\n",
            "                (attention): RobertaAttention(\n",
            "                  (self): RobertaSelfAttention(\n",
            "                    (query): Linear(in_features=768, out_features=768, bias=True)\n",
            "                    (key): Linear(in_features=768, out_features=768, bias=True)\n",
            "                    (value): Linear(in_features=768, out_features=768, bias=True)\n",
            "                    (dropout): Dropout(p=0.1, inplace=False)\n",
            "                  )\n",
            "                  (output): RobertaSelfOutput(\n",
            "                    (dense): Linear(in_features=768, out_features=768, bias=True)\n",
            "                    (LayerNorm): LayerNorm((768,), eps=1e-05, elementwise_affine=True)\n",
            "                    (dropout): Dropout(p=0.1, inplace=False)\n",
            "                  )\n",
            "                )\n",
            "                (intermediate): RobertaIntermediate(\n",
            "                  (dense): Linear(in_features=768, out_features=3072, bias=True)\n",
            "                  (intermediate_act_fn): GELUActivation()\n",
            "                )\n",
            "                (output): RobertaOutput(\n",
            "                  (dense): Linear(in_features=3072, out_features=768, bias=True)\n",
            "                  (LayerNorm): LayerNorm((768,), eps=1e-05, elementwise_affine=True)\n",
            "                  (dropout): Dropout(p=0.1, inplace=False)\n",
            "                )\n",
            "              )\n",
            "              (10): RobertaLayer(\n",
            "                (attention): RobertaAttention(\n",
            "                  (self): RobertaSelfAttention(\n",
            "                    (query): Linear(in_features=768, out_features=768, bias=True)\n",
            "                    (key): Linear(in_features=768, out_features=768, bias=True)\n",
            "                    (value): Linear(in_features=768, out_features=768, bias=True)\n",
            "                    (dropout): Dropout(p=0.1, inplace=False)\n",
            "                  )\n",
            "                  (output): RobertaSelfOutput(\n",
            "                    (dense): Linear(in_features=768, out_features=768, bias=True)\n",
            "                    (LayerNorm): LayerNorm((768,), eps=1e-05, elementwise_affine=True)\n",
            "                    (dropout): Dropout(p=0.1, inplace=False)\n",
            "                  )\n",
            "                )\n",
            "                (intermediate): RobertaIntermediate(\n",
            "                  (dense): Linear(in_features=768, out_features=3072, bias=True)\n",
            "                  (intermediate_act_fn): GELUActivation()\n",
            "                )\n",
            "                (output): RobertaOutput(\n",
            "                  (dense): Linear(in_features=3072, out_features=768, bias=True)\n",
            "                  (LayerNorm): LayerNorm((768,), eps=1e-05, elementwise_affine=True)\n",
            "                  (dropout): Dropout(p=0.1, inplace=False)\n",
            "                )\n",
            "              )\n",
            "              (11): RobertaLayer(\n",
            "                (attention): RobertaAttention(\n",
            "                  (self): RobertaSelfAttention(\n",
            "                    (query): Linear(in_features=768, out_features=768, bias=True)\n",
            "                    (key): Linear(in_features=768, out_features=768, bias=True)\n",
            "                    (value): Linear(in_features=768, out_features=768, bias=True)\n",
            "                    (dropout): Dropout(p=0.1, inplace=False)\n",
            "                  )\n",
            "                  (output): RobertaSelfOutput(\n",
            "                    (dense): Linear(in_features=768, out_features=768, bias=True)\n",
            "                    (LayerNorm): LayerNorm((768,), eps=1e-05, elementwise_affine=True)\n",
            "                    (dropout): Dropout(p=0.1, inplace=False)\n",
            "                  )\n",
            "                )\n",
            "                (intermediate): RobertaIntermediate(\n",
            "                  (dense): Linear(in_features=768, out_features=3072, bias=True)\n",
            "                  (intermediate_act_fn): GELUActivation()\n",
            "                )\n",
            "                (output): RobertaOutput(\n",
            "                  (dense): Linear(in_features=3072, out_features=768, bias=True)\n",
            "                  (LayerNorm): LayerNorm((768,), eps=1e-05, elementwise_affine=True)\n",
            "                  (dropout): Dropout(p=0.1, inplace=False)\n",
            "                )\n",
            "              )\n",
            "            )\n",
            "          )\n",
            "          (pooler): RobertaPooler(\n",
            "            (dense): Linear(in_features=768, out_features=768, bias=True)\n",
            "            (activation): Tanh()\n",
            "          )\n",
            "        )\n",
            "      )\n",
            "    )\n",
            "    (word_reprojection_map): Linear(in_features=768, out_features=256, bias=True)\n",
            "    (rnn): LSTM(256, 512, batch_first=True)\n",
            "    (dropout): Dropout(p=0.5, inplace=False)\n",
            "  )\n",
            "  (weights): None\n",
            "  (weight_tensor) None\n",
            ")\"\n",
            "2023-01-02 06:16:14,693 ----------------------------------------------------------------------------------------------------\n",
            "2023-01-02 06:16:14,699 Corpus: \"Corpus: 348 train + 39 dev + 0 test sentences\"\n",
            "2023-01-02 06:16:14,701 ----------------------------------------------------------------------------------------------------\n",
            "2023-01-02 06:16:14,707 Parameters:\n",
            "2023-01-02 06:16:14,709  - learning_rate: \"0.000001\"\n",
            "2023-01-02 06:16:14,710  - mini_batch_size: \"32\"\n",
            "2023-01-02 06:16:14,712  - patience: \"3\"\n",
            "2023-01-02 06:16:14,714  - anneal_factor: \"0.5\"\n",
            "2023-01-02 06:16:14,722  - max_epochs: \"30\"\n",
            "2023-01-02 06:16:14,724  - shuffle: \"True\"\n",
            "2023-01-02 06:16:14,728  - train_with_dev: \"False\"\n",
            "2023-01-02 06:16:14,730  - batch_growth_annealing: \"False\"\n",
            "2023-01-02 06:16:14,735 ----------------------------------------------------------------------------------------------------\n",
            "2023-01-02 06:16:14,736 Model training base path: \"resources/taggers/sentiment\"\n",
            "2023-01-02 06:16:14,737 ----------------------------------------------------------------------------------------------------\n",
            "2023-01-02 06:16:14,750 Device: cuda:0\n",
            "2023-01-02 06:16:14,754 ----------------------------------------------------------------------------------------------------\n",
            "2023-01-02 06:16:14,755 Embeddings storage mode: cpu\n",
            "2023-01-02 06:16:14,758 ----------------------------------------------------------------------------------------------------\n"
          ]
        },
        {
          "output_type": "stream",
          "name": "stderr",
          "text": [
            "/usr/local/lib/python3.8/dist-packages/flair/trainers/trainer.py:64: UserWarning: There should be no best model saved at epoch 1 except there is a model from previous trainings in your training folder. All previous best models will be deleted.\n",
            "  warnings.warn(\n"
          ]
        },
        {
          "output_type": "stream",
          "name": "stdout",
          "text": [
            "2023-01-02 06:16:15,041 epoch 1 - iter 1/11 - loss 0.02989540 - samples/sec: 117.45 - lr: 0.000001\n",
            "2023-01-02 06:16:15,305 epoch 1 - iter 2/11 - loss 0.02969615 - samples/sec: 125.13 - lr: 0.000001\n",
            "2023-01-02 06:16:15,527 epoch 1 - iter 3/11 - loss 0.02929514 - samples/sec: 149.61 - lr: 0.000001\n",
            "2023-01-02 06:16:15,710 epoch 1 - iter 4/11 - loss 0.02929746 - samples/sec: 182.80 - lr: 0.000001\n",
            "2023-01-02 06:16:15,989 epoch 1 - iter 5/11 - loss 0.02885064 - samples/sec: 118.85 - lr: 0.000001\n",
            "2023-01-02 06:16:16,619 epoch 1 - iter 6/11 - loss 0.02898752 - samples/sec: 51.56 - lr: 0.000001\n",
            "2023-01-02 06:16:16,868 epoch 1 - iter 7/11 - loss 0.02904564 - samples/sec: 132.67 - lr: 0.000001\n",
            "2023-01-02 06:16:17,076 epoch 1 - iter 8/11 - loss 0.02932338 - samples/sec: 160.64 - lr: 0.000001\n",
            "2023-01-02 06:16:17,290 epoch 1 - iter 9/11 - loss 0.02944657 - samples/sec: 155.76 - lr: 0.000001\n",
            "2023-01-02 06:16:17,532 epoch 1 - iter 10/11 - loss 0.02935009 - samples/sec: 136.61 - lr: 0.000001\n",
            "2023-01-02 06:16:17,733 epoch 1 - iter 11/11 - loss 0.02972338 - samples/sec: 164.59 - lr: 0.000001\n",
            "2023-01-02 06:16:17,736 ----------------------------------------------------------------------------------------------------\n",
            "2023-01-02 06:16:17,739 EPOCH 1 done: loss 0.0297 - lr 0.000001\n"
          ]
        },
        {
          "output_type": "stream",
          "name": "stderr",
          "text": [
            "100%|██████████| 2/2 [00:00<00:00, 22.78it/s]"
          ]
        },
        {
          "output_type": "stream",
          "name": "stdout",
          "text": [
            "2023-01-02 06:16:17,836 Evaluating as a multi-label problem: False\n",
            "2023-01-02 06:16:17,849 DEV : loss 0.04265611618757248 - f1-score (micro avg)  0.6667\n",
            "2023-01-02 06:16:17,859 BAD EPOCHS (no improvement): 0\n",
            "2023-01-02 06:16:17,860 saving best model\n"
          ]
        },
        {
          "output_type": "stream",
          "name": "stderr",
          "text": [
            "\n"
          ]
        },
        {
          "output_type": "stream",
          "name": "stdout",
          "text": [
            "2023-01-02 06:16:19,543 ----------------------------------------------------------------------------------------------------\n",
            "2023-01-02 06:16:20,146 epoch 2 - iter 1/11 - loss 0.02831015 - samples/sec: 106.54 - lr: 0.000001\n",
            "2023-01-02 06:16:20,361 epoch 2 - iter 2/11 - loss 0.02807632 - samples/sec: 154.32 - lr: 0.000001\n",
            "2023-01-02 06:16:20,986 epoch 2 - iter 3/11 - loss 0.02828354 - samples/sec: 51.96 - lr: 0.000001\n",
            "2023-01-02 06:16:21,230 epoch 2 - iter 4/11 - loss 0.02787862 - samples/sec: 136.05 - lr: 0.000001\n",
            "2023-01-02 06:16:21,448 epoch 2 - iter 5/11 - loss 0.02795342 - samples/sec: 152.26 - lr: 0.000001\n",
            "2023-01-02 06:16:21,674 epoch 2 - iter 6/11 - loss 0.02787904 - samples/sec: 147.10 - lr: 0.000001\n",
            "2023-01-02 06:16:21,893 epoch 2 - iter 7/11 - loss 0.02789049 - samples/sec: 151.28 - lr: 0.000001\n",
            "2023-01-02 06:16:22,132 epoch 2 - iter 8/11 - loss 0.02758701 - samples/sec: 138.43 - lr: 0.000001\n",
            "2023-01-02 06:16:22,390 epoch 2 - iter 9/11 - loss 0.02734447 - samples/sec: 127.80 - lr: 0.000001\n",
            "2023-01-02 06:16:22,640 epoch 2 - iter 10/11 - loss 0.02732750 - samples/sec: 132.45 - lr: 0.000001\n",
            "2023-01-02 06:16:22,871 epoch 2 - iter 11/11 - loss 0.02760730 - samples/sec: 143.74 - lr: 0.000001\n",
            "2023-01-02 06:16:22,874 ----------------------------------------------------------------------------------------------------\n",
            "2023-01-02 06:16:22,877 EPOCH 2 done: loss 0.0276 - lr 0.000001\n"
          ]
        },
        {
          "output_type": "stream",
          "name": "stderr",
          "text": [
            "100%|██████████| 2/2 [00:00<00:00, 21.57it/s]"
          ]
        },
        {
          "output_type": "stream",
          "name": "stdout",
          "text": [
            "2023-01-02 06:16:22,983 Evaluating as a multi-label problem: False\n",
            "2023-01-02 06:16:22,994 DEV : loss 0.04026276245713234 - f1-score (micro avg)  0.7179\n",
            "2023-01-02 06:16:23,004 BAD EPOCHS (no improvement): 0\n",
            "2023-01-02 06:16:23,006 saving best model\n"
          ]
        },
        {
          "output_type": "stream",
          "name": "stderr",
          "text": [
            "\n"
          ]
        },
        {
          "output_type": "stream",
          "name": "stdout",
          "text": [
            "2023-01-02 06:16:24,825 ----------------------------------------------------------------------------------------------------\n",
            "2023-01-02 06:16:25,173 epoch 3 - iter 1/11 - loss 0.02522106 - samples/sec: 94.92 - lr: 0.000001\n",
            "2023-01-02 06:16:25,372 epoch 3 - iter 2/11 - loss 0.02578511 - samples/sec: 167.54 - lr: 0.000001\n",
            "2023-01-02 06:16:25,636 epoch 3 - iter 3/11 - loss 0.02536031 - samples/sec: 125.68 - lr: 0.000001\n",
            "2023-01-02 06:16:25,886 epoch 3 - iter 4/11 - loss 0.02536229 - samples/sec: 132.07 - lr: 0.000001\n",
            "2023-01-02 06:16:26,101 epoch 3 - iter 5/11 - loss 0.02536777 - samples/sec: 154.84 - lr: 0.000001\n",
            "2023-01-02 06:16:26,339 epoch 3 - iter 6/11 - loss 0.02553632 - samples/sec: 139.05 - lr: 0.000001\n",
            "2023-01-02 06:16:26,565 epoch 3 - iter 7/11 - loss 0.02576692 - samples/sec: 146.91 - lr: 0.000001\n",
            "2023-01-02 06:16:27,195 epoch 3 - iter 8/11 - loss 0.02585119 - samples/sec: 51.58 - lr: 0.000001\n",
            "2023-01-02 06:16:27,440 epoch 3 - iter 9/11 - loss 0.02586881 - samples/sec: 135.74 - lr: 0.000001\n",
            "2023-01-02 06:16:27,689 epoch 3 - iter 10/11 - loss 0.02598319 - samples/sec: 131.95 - lr: 0.000001\n",
            "2023-01-02 06:16:27,894 epoch 3 - iter 11/11 - loss 0.02620755 - samples/sec: 163.74 - lr: 0.000001\n",
            "2023-01-02 06:16:27,897 ----------------------------------------------------------------------------------------------------\n",
            "2023-01-02 06:16:27,900 EPOCH 3 done: loss 0.0262 - lr 0.000001\n"
          ]
        },
        {
          "output_type": "stream",
          "name": "stderr",
          "text": [
            "100%|██████████| 2/2 [00:00<00:00, 23.55it/s]"
          ]
        },
        {
          "output_type": "stream",
          "name": "stdout",
          "text": [
            "2023-01-02 06:16:27,998 Evaluating as a multi-label problem: False\n",
            "2023-01-02 06:16:28,008 DEV : loss 0.038067568093538284 - f1-score (micro avg)  0.7692\n",
            "2023-01-02 06:16:28,016 BAD EPOCHS (no improvement): 0\n",
            "2023-01-02 06:16:28,018 saving best model\n"
          ]
        },
        {
          "output_type": "stream",
          "name": "stderr",
          "text": [
            "\n"
          ]
        },
        {
          "output_type": "stream",
          "name": "stdout",
          "text": [
            "2023-01-02 06:16:29,729 ----------------------------------------------------------------------------------------------------\n",
            "2023-01-02 06:16:30,005 epoch 4 - iter 1/11 - loss 0.02495911 - samples/sec: 120.67 - lr: 0.000001\n",
            "2023-01-02 06:16:30,259 epoch 4 - iter 2/11 - loss 0.02491671 - samples/sec: 131.05 - lr: 0.000001\n",
            "2023-01-02 06:16:30,475 epoch 4 - iter 3/11 - loss 0.02482638 - samples/sec: 154.74 - lr: 0.000001\n",
            "2023-01-02 06:16:31,107 epoch 4 - iter 4/11 - loss 0.02443052 - samples/sec: 51.36 - lr: 0.000001\n",
            "2023-01-02 06:16:31,390 epoch 4 - iter 5/11 - loss 0.02501586 - samples/sec: 117.15 - lr: 0.000001\n",
            "2023-01-02 06:16:31,596 epoch 4 - iter 6/11 - loss 0.02492087 - samples/sec: 161.67 - lr: 0.000001\n",
            "2023-01-02 06:16:31,781 epoch 4 - iter 7/11 - loss 0.02506259 - samples/sec: 178.60 - lr: 0.000001\n",
            "2023-01-02 06:16:32,003 epoch 4 - iter 8/11 - loss 0.02482518 - samples/sec: 150.33 - lr: 0.000001\n",
            "2023-01-02 06:16:32,208 epoch 4 - iter 9/11 - loss 0.02470889 - samples/sec: 162.83 - lr: 0.000001\n",
            "2023-01-02 06:16:32,432 epoch 4 - iter 10/11 - loss 0.02454676 - samples/sec: 148.60 - lr: 0.000001\n",
            "2023-01-02 06:16:32,652 epoch 4 - iter 11/11 - loss 0.02492665 - samples/sec: 150.08 - lr: 0.000001\n",
            "2023-01-02 06:16:32,655 ----------------------------------------------------------------------------------------------------\n",
            "2023-01-02 06:16:32,658 EPOCH 4 done: loss 0.0249 - lr 0.000001\n"
          ]
        },
        {
          "output_type": "stream",
          "name": "stderr",
          "text": [
            "100%|██████████| 2/2 [00:00<00:00, 24.15it/s]"
          ]
        },
        {
          "output_type": "stream",
          "name": "stdout",
          "text": [
            "2023-01-02 06:16:32,749 Evaluating as a multi-label problem: False\n",
            "2023-01-02 06:16:32,760 DEV : loss 0.03599303588271141 - f1-score (micro avg)  0.7949\n",
            "2023-01-02 06:16:32,770 BAD EPOCHS (no improvement): 0\n",
            "2023-01-02 06:16:32,772 saving best model\n"
          ]
        },
        {
          "output_type": "stream",
          "name": "stderr",
          "text": [
            "\n"
          ]
        },
        {
          "output_type": "stream",
          "name": "stdout",
          "text": [
            "2023-01-02 06:16:34,478 ----------------------------------------------------------------------------------------------------\n",
            "2023-01-02 06:16:34,745 epoch 5 - iter 1/11 - loss 0.02986105 - samples/sec: 124.25 - lr: 0.000001\n",
            "2023-01-02 06:16:34,975 epoch 5 - iter 2/11 - loss 0.02743720 - samples/sec: 144.47 - lr: 0.000001\n",
            "2023-01-02 06:16:35,210 epoch 5 - iter 3/11 - loss 0.02565178 - samples/sec: 142.27 - lr: 0.000001\n",
            "2023-01-02 06:16:35,456 epoch 5 - iter 4/11 - loss 0.02478469 - samples/sec: 134.26 - lr: 0.000001\n",
            "2023-01-02 06:16:35,670 epoch 5 - iter 5/11 - loss 0.02479580 - samples/sec: 156.01 - lr: 0.000001\n",
            "2023-01-02 06:16:35,939 epoch 5 - iter 6/11 - loss 0.02471541 - samples/sec: 122.43 - lr: 0.000001\n",
            "2023-01-02 06:16:36,192 epoch 5 - iter 7/11 - loss 0.02475263 - samples/sec: 130.93 - lr: 0.000001\n",
            "2023-01-02 06:16:36,422 epoch 5 - iter 8/11 - loss 0.02485074 - samples/sec: 144.32 - lr: 0.000001\n",
            "2023-01-02 06:16:37,075 epoch 5 - iter 9/11 - loss 0.02479595 - samples/sec: 49.79 - lr: 0.000001\n",
            "2023-01-02 06:16:37,303 epoch 5 - iter 10/11 - loss 0.02452764 - samples/sec: 145.95 - lr: 0.000001\n",
            "2023-01-02 06:16:37,456 epoch 5 - iter 11/11 - loss 0.02476408 - samples/sec: 220.32 - lr: 0.000001\n",
            "2023-01-02 06:16:37,459 ----------------------------------------------------------------------------------------------------\n",
            "2023-01-02 06:16:37,462 EPOCH 5 done: loss 0.0248 - lr 0.000001\n"
          ]
        },
        {
          "output_type": "stream",
          "name": "stderr",
          "text": [
            "100%|██████████| 2/2 [00:00<00:00, 24.16it/s]"
          ]
        },
        {
          "output_type": "stream",
          "name": "stdout",
          "text": [
            "2023-01-02 06:16:37,555 Evaluating as a multi-label problem: False\n",
            "2023-01-02 06:16:37,566 DEV : loss 0.03392515331506729 - f1-score (micro avg)  0.8718\n",
            "2023-01-02 06:16:37,575 BAD EPOCHS (no improvement): 0\n",
            "2023-01-02 06:16:37,576 saving best model\n"
          ]
        },
        {
          "output_type": "stream",
          "name": "stderr",
          "text": [
            "\n"
          ]
        },
        {
          "output_type": "stream",
          "name": "stdout",
          "text": [
            "2023-01-02 06:16:39,323 ----------------------------------------------------------------------------------------------------\n",
            "2023-01-02 06:16:39,641 epoch 6 - iter 1/11 - loss 0.02498012 - samples/sec: 104.84 - lr: 0.000001\n",
            "2023-01-02 06:16:40,301 epoch 6 - iter 2/11 - loss 0.02347327 - samples/sec: 49.26 - lr: 0.000001\n",
            "2023-01-02 06:16:40,471 epoch 6 - iter 3/11 - loss 0.02386504 - samples/sec: 197.37 - lr: 0.000001\n",
            "2023-01-02 06:16:40,673 epoch 6 - iter 4/11 - loss 0.02381759 - samples/sec: 164.90 - lr: 0.000001\n",
            "2023-01-02 06:16:40,881 epoch 6 - iter 5/11 - loss 0.02375536 - samples/sec: 161.02 - lr: 0.000001\n",
            "2023-01-02 06:16:41,079 epoch 6 - iter 6/11 - loss 0.02365659 - samples/sec: 168.03 - lr: 0.000001\n",
            "2023-01-02 06:16:41,272 epoch 6 - iter 7/11 - loss 0.02346403 - samples/sec: 172.88 - lr: 0.000001\n",
            "2023-01-02 06:16:41,521 epoch 6 - iter 8/11 - loss 0.02328595 - samples/sec: 132.74 - lr: 0.000001\n",
            "2023-01-02 06:16:41,775 epoch 6 - iter 9/11 - loss 0.02320541 - samples/sec: 130.40 - lr: 0.000001\n",
            "2023-01-02 06:16:42,058 epoch 6 - iter 10/11 - loss 0.02325377 - samples/sec: 116.55 - lr: 0.000001\n",
            "2023-01-02 06:16:42,262 epoch 6 - iter 11/11 - loss 0.02373296 - samples/sec: 162.64 - lr: 0.000001\n",
            "2023-01-02 06:16:42,265 ----------------------------------------------------------------------------------------------------\n",
            "2023-01-02 06:16:42,269 EPOCH 6 done: loss 0.0237 - lr 0.000001\n"
          ]
        },
        {
          "output_type": "stream",
          "name": "stderr",
          "text": [
            "100%|██████████| 2/2 [00:00<00:00, 22.62it/s]"
          ]
        },
        {
          "output_type": "stream",
          "name": "stdout",
          "text": [
            "2023-01-02 06:16:42,369 Evaluating as a multi-label problem: False\n",
            "2023-01-02 06:16:42,384 DEV : loss 0.03195177763700485 - f1-score (micro avg)  0.8974\n",
            "2023-01-02 06:16:42,397 BAD EPOCHS (no improvement): 0\n",
            "2023-01-02 06:16:42,399 saving best model\n"
          ]
        },
        {
          "output_type": "stream",
          "name": "stderr",
          "text": [
            "\n"
          ]
        },
        {
          "output_type": "stream",
          "name": "stdout",
          "text": [
            "2023-01-02 06:16:44,141 ----------------------------------------------------------------------------------------------------\n",
            "2023-01-02 06:16:44,489 epoch 7 - iter 1/11 - loss 0.02077607 - samples/sec: 94.72 - lr: 0.000001\n",
            "2023-01-02 06:16:44,710 epoch 7 - iter 2/11 - loss 0.02166717 - samples/sec: 151.08 - lr: 0.000001\n",
            "2023-01-02 06:16:44,930 epoch 7 - iter 3/11 - loss 0.02167204 - samples/sec: 151.56 - lr: 0.000001\n",
            "2023-01-02 06:16:45,569 epoch 7 - iter 4/11 - loss 0.02180412 - samples/sec: 50.91 - lr: 0.000001\n",
            "2023-01-02 06:16:45,800 epoch 7 - iter 5/11 - loss 0.02197992 - samples/sec: 143.55 - lr: 0.000001\n",
            "2023-01-02 06:16:46,071 epoch 7 - iter 6/11 - loss 0.02213547 - samples/sec: 121.68 - lr: 0.000001\n",
            "2023-01-02 06:16:46,285 epoch 7 - iter 7/11 - loss 0.02211042 - samples/sec: 155.52 - lr: 0.000001\n",
            "2023-01-02 06:16:46,503 epoch 7 - iter 8/11 - loss 0.02222287 - samples/sec: 152.10 - lr: 0.000001\n",
            "2023-01-02 06:16:46,714 epoch 7 - iter 9/11 - loss 0.02237397 - samples/sec: 157.61 - lr: 0.000001\n",
            "2023-01-02 06:16:46,967 epoch 7 - iter 10/11 - loss 0.02237875 - samples/sec: 131.24 - lr: 0.000001\n",
            "2023-01-02 06:16:47,197 epoch 7 - iter 11/11 - loss 0.02248050 - samples/sec: 144.60 - lr: 0.000001\n",
            "2023-01-02 06:16:47,201 ----------------------------------------------------------------------------------------------------\n",
            "2023-01-02 06:16:47,203 EPOCH 7 done: loss 0.0225 - lr 0.000001\n"
          ]
        },
        {
          "output_type": "stream",
          "name": "stderr",
          "text": [
            "100%|██████████| 2/2 [00:00<00:00, 23.59it/s]"
          ]
        },
        {
          "output_type": "stream",
          "name": "stdout",
          "text": [
            "2023-01-02 06:16:47,296 Evaluating as a multi-label problem: False\n",
            "2023-01-02 06:16:47,310 DEV : loss 0.030080299824476242 - f1-score (micro avg)  0.9487\n",
            "2023-01-02 06:16:47,321 BAD EPOCHS (no improvement): 0\n",
            "2023-01-02 06:16:47,322 saving best model\n"
          ]
        },
        {
          "output_type": "stream",
          "name": "stderr",
          "text": [
            "\n"
          ]
        },
        {
          "output_type": "stream",
          "name": "stdout",
          "text": [
            "2023-01-02 06:16:49,204 ----------------------------------------------------------------------------------------------------\n",
            "2023-01-02 06:16:49,920 epoch 8 - iter 1/11 - loss 0.02064914 - samples/sec: 45.47 - lr: 0.000001\n",
            "2023-01-02 06:16:50,147 epoch 8 - iter 2/11 - loss 0.02078340 - samples/sec: 146.63 - lr: 0.000001\n",
            "2023-01-02 06:16:50,341 epoch 8 - iter 3/11 - loss 0.02109717 - samples/sec: 172.17 - lr: 0.000001\n",
            "2023-01-02 06:16:50,595 epoch 8 - iter 4/11 - loss 0.02144166 - samples/sec: 130.13 - lr: 0.000001\n",
            "2023-01-02 06:16:50,818 epoch 8 - iter 5/11 - loss 0.02205704 - samples/sec: 148.71 - lr: 0.000001\n",
            "2023-01-02 06:16:51,073 epoch 8 - iter 6/11 - loss 0.02203595 - samples/sec: 129.24 - lr: 0.000001\n",
            "2023-01-02 06:16:51,318 epoch 8 - iter 7/11 - loss 0.02194998 - samples/sec: 135.60 - lr: 0.000001\n",
            "2023-01-02 06:16:51,514 epoch 8 - iter 8/11 - loss 0.02166955 - samples/sec: 169.89 - lr: 0.000001\n",
            "2023-01-02 06:16:51,718 epoch 8 - iter 9/11 - loss 0.02213922 - samples/sec: 162.60 - lr: 0.000001\n",
            "2023-01-02 06:16:51,917 epoch 8 - iter 10/11 - loss 0.02181469 - samples/sec: 167.56 - lr: 0.000001\n",
            "2023-01-02 06:16:52,162 epoch 8 - iter 11/11 - loss 0.02199165 - samples/sec: 135.22 - lr: 0.000001\n",
            "2023-01-02 06:16:52,167 ----------------------------------------------------------------------------------------------------\n",
            "2023-01-02 06:16:52,170 EPOCH 8 done: loss 0.0220 - lr 0.000001\n"
          ]
        },
        {
          "output_type": "stream",
          "name": "stderr",
          "text": [
            "100%|██████████| 2/2 [00:00<00:00, 23.70it/s]"
          ]
        },
        {
          "output_type": "stream",
          "name": "stdout",
          "text": [
            "2023-01-02 06:16:52,264 Evaluating as a multi-label problem: False\n",
            "2023-01-02 06:16:52,274 DEV : loss 0.02827140875160694 - f1-score (micro avg)  0.9487\n",
            "2023-01-02 06:16:52,283 BAD EPOCHS (no improvement): 0\n",
            "2023-01-02 06:16:52,286 ----------------------------------------------------------------------------------------------------\n"
          ]
        },
        {
          "output_type": "stream",
          "name": "stderr",
          "text": [
            "\n"
          ]
        },
        {
          "output_type": "stream",
          "name": "stdout",
          "text": [
            "2023-01-02 06:16:52,545 epoch 9 - iter 1/11 - loss 0.02072925 - samples/sec: 129.53 - lr: 0.000001\n",
            "2023-01-02 06:16:52,737 epoch 9 - iter 2/11 - loss 0.02125158 - samples/sec: 176.62 - lr: 0.000001\n",
            "2023-01-02 06:16:53,001 epoch 9 - iter 3/11 - loss 0.02050594 - samples/sec: 125.13 - lr: 0.000001\n",
            "2023-01-02 06:16:53,198 epoch 9 - iter 4/11 - loss 0.02131092 - samples/sec: 168.70 - lr: 0.000001\n",
            "2023-01-02 06:16:53,430 epoch 9 - iter 5/11 - loss 0.02112567 - samples/sec: 143.78 - lr: 0.000001\n",
            "2023-01-02 06:16:53,683 epoch 9 - iter 6/11 - loss 0.02076514 - samples/sec: 131.32 - lr: 0.000001\n",
            "2023-01-02 06:16:53,913 epoch 9 - iter 7/11 - loss 0.02029027 - samples/sec: 145.74 - lr: 0.000001\n",
            "2023-01-02 06:16:54,155 epoch 9 - iter 8/11 - loss 0.02043234 - samples/sec: 137.60 - lr: 0.000001\n",
            "2023-01-02 06:16:54,387 epoch 9 - iter 9/11 - loss 0.02007143 - samples/sec: 142.39 - lr: 0.000001\n",
            "2023-01-02 06:16:54,636 epoch 9 - iter 10/11 - loss 0.01986380 - samples/sec: 132.99 - lr: 0.000001\n",
            "2023-01-02 06:16:55,197 epoch 9 - iter 11/11 - loss 0.02038864 - samples/sec: 57.94 - lr: 0.000001\n",
            "2023-01-02 06:16:55,200 ----------------------------------------------------------------------------------------------------\n",
            "2023-01-02 06:16:55,203 EPOCH 9 done: loss 0.0204 - lr 0.000001\n"
          ]
        },
        {
          "output_type": "stream",
          "name": "stderr",
          "text": [
            "100%|██████████| 2/2 [00:00<00:00, 22.98it/s]"
          ]
        },
        {
          "output_type": "stream",
          "name": "stdout",
          "text": [
            "2023-01-02 06:16:55,299 Evaluating as a multi-label problem: False\n",
            "2023-01-02 06:16:55,311 DEV : loss 0.026557443663477898 - f1-score (micro avg)  0.9487\n",
            "2023-01-02 06:16:55,321 BAD EPOCHS (no improvement): 0\n",
            "2023-01-02 06:16:55,322 ----------------------------------------------------------------------------------------------------\n"
          ]
        },
        {
          "output_type": "stream",
          "name": "stderr",
          "text": [
            "\n"
          ]
        },
        {
          "output_type": "stream",
          "name": "stdout",
          "text": [
            "2023-01-02 06:16:55,538 epoch 10 - iter 1/11 - loss 0.02186779 - samples/sec: 155.67 - lr: 0.000001\n",
            "2023-01-02 06:16:55,781 epoch 10 - iter 2/11 - loss 0.02128224 - samples/sec: 135.95 - lr: 0.000001\n",
            "2023-01-02 06:16:56,018 epoch 10 - iter 3/11 - loss 0.02063309 - samples/sec: 140.06 - lr: 0.000001\n",
            "2023-01-02 06:16:56,230 epoch 10 - iter 4/11 - loss 0.02127080 - samples/sec: 157.18 - lr: 0.000001\n",
            "2023-01-02 06:16:56,444 epoch 10 - iter 5/11 - loss 0.02096703 - samples/sec: 155.97 - lr: 0.000001\n",
            "2023-01-02 06:16:56,711 epoch 10 - iter 6/11 - loss 0.02105451 - samples/sec: 124.23 - lr: 0.000001\n",
            "2023-01-02 06:16:56,959 epoch 10 - iter 7/11 - loss 0.02071576 - samples/sec: 133.42 - lr: 0.000001\n",
            "2023-01-02 06:16:57,605 epoch 10 - iter 8/11 - loss 0.02045297 - samples/sec: 50.35 - lr: 0.000001\n",
            "2023-01-02 06:16:57,858 epoch 10 - iter 9/11 - loss 0.02037713 - samples/sec: 130.48 - lr: 0.000001\n",
            "2023-01-02 06:16:58,113 epoch 10 - iter 10/11 - loss 0.02011282 - samples/sec: 130.31 - lr: 0.000001\n",
            "2023-01-02 06:16:58,318 epoch 10 - iter 11/11 - loss 0.02026998 - samples/sec: 163.18 - lr: 0.000001\n",
            "2023-01-02 06:16:58,321 ----------------------------------------------------------------------------------------------------\n",
            "2023-01-02 06:16:58,325 EPOCH 10 done: loss 0.0203 - lr 0.000001\n"
          ]
        },
        {
          "output_type": "stream",
          "name": "stderr",
          "text": [
            "100%|██████████| 2/2 [00:00<00:00, 24.01it/s]"
          ]
        },
        {
          "output_type": "stream",
          "name": "stdout",
          "text": [
            "2023-01-02 06:16:58,418 Evaluating as a multi-label problem: False\n",
            "2023-01-02 06:16:58,430 DEV : loss 0.024827666580677032 - f1-score (micro avg)  0.9487\n",
            "2023-01-02 06:16:58,439 BAD EPOCHS (no improvement): 0\n",
            "2023-01-02 06:16:58,440 ----------------------------------------------------------------------------------------------------\n"
          ]
        },
        {
          "output_type": "stream",
          "name": "stderr",
          "text": [
            "\n"
          ]
        },
        {
          "output_type": "stream",
          "name": "stdout",
          "text": [
            "2023-01-02 06:16:58,669 epoch 11 - iter 1/11 - loss 0.02040754 - samples/sec: 146.46 - lr: 0.000001\n",
            "2023-01-02 06:16:58,888 epoch 11 - iter 2/11 - loss 0.01859869 - samples/sec: 151.24 - lr: 0.000001\n",
            "2023-01-02 06:16:59,142 epoch 11 - iter 3/11 - loss 0.01899439 - samples/sec: 130.99 - lr: 0.000001\n",
            "2023-01-02 06:16:59,352 epoch 11 - iter 4/11 - loss 0.01903778 - samples/sec: 159.16 - lr: 0.000001\n",
            "2023-01-02 06:16:59,621 epoch 11 - iter 5/11 - loss 0.01947457 - samples/sec: 122.87 - lr: 0.000001\n",
            "2023-01-02 06:16:59,806 epoch 11 - iter 6/11 - loss 0.01977927 - samples/sec: 179.80 - lr: 0.000001\n",
            "2023-01-02 06:17:00,065 epoch 11 - iter 7/11 - loss 0.01973662 - samples/sec: 127.88 - lr: 0.000001\n",
            "2023-01-02 06:17:00,312 epoch 11 - iter 8/11 - loss 0.01929715 - samples/sec: 135.14 - lr: 0.000001\n",
            "2023-01-02 06:17:00,543 epoch 11 - iter 9/11 - loss 0.01903277 - samples/sec: 144.23 - lr: 0.000001\n",
            "2023-01-02 06:17:01,187 epoch 11 - iter 10/11 - loss 0.01910678 - samples/sec: 50.42 - lr: 0.000001\n",
            "2023-01-02 06:17:01,355 epoch 11 - iter 11/11 - loss 0.01934248 - samples/sec: 198.31 - lr: 0.000001\n",
            "2023-01-02 06:17:01,359 ----------------------------------------------------------------------------------------------------\n",
            "2023-01-02 06:17:01,361 EPOCH 11 done: loss 0.0193 - lr 0.000001\n"
          ]
        },
        {
          "output_type": "stream",
          "name": "stderr",
          "text": [
            "100%|██████████| 2/2 [00:00<00:00, 22.85it/s]"
          ]
        },
        {
          "output_type": "stream",
          "name": "stdout",
          "text": [
            "2023-01-02 06:17:01,458 Evaluating as a multi-label problem: False\n",
            "2023-01-02 06:17:01,471 DEV : loss 0.023293551057577133 - f1-score (micro avg)  0.9487\n",
            "2023-01-02 06:17:01,481 BAD EPOCHS (no improvement): 0\n",
            "2023-01-02 06:17:01,483 ----------------------------------------------------------------------------------------------------\n"
          ]
        },
        {
          "output_type": "stream",
          "name": "stderr",
          "text": [
            "\n"
          ]
        },
        {
          "output_type": "stream",
          "name": "stdout",
          "text": [
            "2023-01-02 06:17:01,719 epoch 12 - iter 1/11 - loss 0.01525586 - samples/sec: 141.93 - lr: 0.000001\n",
            "2023-01-02 06:17:01,919 epoch 12 - iter 2/11 - loss 0.01631583 - samples/sec: 166.67 - lr: 0.000001\n",
            "2023-01-02 06:17:02,559 epoch 12 - iter 3/11 - loss 0.01775332 - samples/sec: 50.70 - lr: 0.000001\n",
            "2023-01-02 06:17:02,790 epoch 12 - iter 4/11 - loss 0.01777714 - samples/sec: 144.12 - lr: 0.000001\n",
            "2023-01-02 06:17:03,025 epoch 12 - iter 5/11 - loss 0.01836456 - samples/sec: 142.17 - lr: 0.000001\n",
            "2023-01-02 06:17:03,211 epoch 12 - iter 6/11 - loss 0.01842600 - samples/sec: 180.64 - lr: 0.000001\n",
            "2023-01-02 06:17:03,418 epoch 12 - iter 7/11 - loss 0.01875475 - samples/sec: 161.64 - lr: 0.000001\n",
            "2023-01-02 06:17:03,678 epoch 12 - iter 8/11 - loss 0.01862965 - samples/sec: 127.03 - lr: 0.000001\n",
            "2023-01-02 06:17:03,927 epoch 12 - iter 9/11 - loss 0.01863949 - samples/sec: 133.25 - lr: 0.000001\n",
            "2023-01-02 06:17:04,191 epoch 12 - iter 10/11 - loss 0.01866140 - samples/sec: 125.14 - lr: 0.000001\n",
            "2023-01-02 06:17:04,422 epoch 12 - iter 11/11 - loss 0.01874953 - samples/sec: 144.02 - lr: 0.000001\n",
            "2023-01-02 06:17:04,425 ----------------------------------------------------------------------------------------------------\n",
            "2023-01-02 06:17:04,430 EPOCH 12 done: loss 0.0187 - lr 0.000001\n"
          ]
        },
        {
          "output_type": "stream",
          "name": "stderr",
          "text": [
            "100%|██████████| 2/2 [00:00<00:00, 23.94it/s]"
          ]
        },
        {
          "output_type": "stream",
          "name": "stdout",
          "text": [
            "2023-01-02 06:17:04,521 Evaluating as a multi-label problem: False\n",
            "2023-01-02 06:17:04,532 DEV : loss 0.02173517644405365 - f1-score (micro avg)  0.9487\n",
            "2023-01-02 06:17:04,541 BAD EPOCHS (no improvement): 0\n",
            "2023-01-02 06:17:04,544 ----------------------------------------------------------------------------------------------------\n"
          ]
        },
        {
          "output_type": "stream",
          "name": "stderr",
          "text": [
            "\n"
          ]
        },
        {
          "output_type": "stream",
          "name": "stdout",
          "text": [
            "2023-01-02 06:17:04,767 epoch 13 - iter 1/11 - loss 0.01886494 - samples/sec: 148.66 - lr: 0.000001\n",
            "2023-01-02 06:17:05,014 epoch 13 - iter 2/11 - loss 0.01651389 - samples/sec: 134.39 - lr: 0.000001\n",
            "2023-01-02 06:17:05,194 epoch 13 - iter 3/11 - loss 0.01768129 - samples/sec: 184.25 - lr: 0.000001\n",
            "2023-01-02 06:17:05,381 epoch 13 - iter 4/11 - loss 0.01783668 - samples/sec: 178.24 - lr: 0.000001\n",
            "2023-01-02 06:17:05,600 epoch 13 - iter 5/11 - loss 0.01792527 - samples/sec: 151.74 - lr: 0.000001\n",
            "2023-01-02 06:17:05,828 epoch 13 - iter 6/11 - loss 0.01774277 - samples/sec: 145.66 - lr: 0.000001\n",
            "2023-01-02 06:17:06,079 epoch 13 - iter 7/11 - loss 0.01809593 - samples/sec: 131.74 - lr: 0.000001\n",
            "2023-01-02 06:17:06,281 epoch 13 - iter 8/11 - loss 0.01808472 - samples/sec: 164.80 - lr: 0.000001\n",
            "2023-01-02 06:17:06,542 epoch 13 - iter 9/11 - loss 0.01814413 - samples/sec: 127.70 - lr: 0.000001\n",
            "2023-01-02 06:17:07,190 epoch 13 - iter 10/11 - loss 0.01819014 - samples/sec: 50.03 - lr: 0.000001\n",
            "2023-01-02 06:17:07,437 epoch 13 - iter 11/11 - loss 0.01819167 - samples/sec: 134.71 - lr: 0.000001\n",
            "2023-01-02 06:17:07,440 ----------------------------------------------------------------------------------------------------\n",
            "2023-01-02 06:17:07,443 EPOCH 13 done: loss 0.0182 - lr 0.000001\n"
          ]
        },
        {
          "output_type": "stream",
          "name": "stderr",
          "text": [
            "100%|██████████| 2/2 [00:00<00:00, 23.55it/s]"
          ]
        },
        {
          "output_type": "stream",
          "name": "stdout",
          "text": [
            "2023-01-02 06:17:07,537 Evaluating as a multi-label problem: False\n",
            "2023-01-02 06:17:07,547 DEV : loss 0.02025836519896984 - f1-score (micro avg)  0.9487\n",
            "2023-01-02 06:17:07,556 BAD EPOCHS (no improvement): 0\n",
            "2023-01-02 06:17:07,557 ----------------------------------------------------------------------------------------------------\n"
          ]
        },
        {
          "output_type": "stream",
          "name": "stderr",
          "text": [
            "\n"
          ]
        },
        {
          "output_type": "stream",
          "name": "stdout",
          "text": [
            "2023-01-02 06:17:07,768 epoch 14 - iter 1/11 - loss 0.01446296 - samples/sec: 160.55 - lr: 0.000001\n",
            "2023-01-02 06:17:07,995 epoch 14 - iter 2/11 - loss 0.01501851 - samples/sec: 145.27 - lr: 0.000001\n",
            "2023-01-02 06:17:08,212 epoch 14 - iter 3/11 - loss 0.01589922 - samples/sec: 152.91 - lr: 0.000001\n",
            "2023-01-02 06:17:08,487 epoch 14 - iter 4/11 - loss 0.01544673 - samples/sec: 120.80 - lr: 0.000001\n",
            "2023-01-02 06:17:08,751 epoch 14 - iter 5/11 - loss 0.01578462 - samples/sec: 125.45 - lr: 0.000001\n",
            "2023-01-02 06:17:08,962 epoch 14 - iter 6/11 - loss 0.01639730 - samples/sec: 156.65 - lr: 0.000001\n",
            "2023-01-02 06:17:09,161 epoch 14 - iter 7/11 - loss 0.01658227 - samples/sec: 168.30 - lr: 0.000001\n",
            "2023-01-02 06:17:09,373 epoch 14 - iter 8/11 - loss 0.01680817 - samples/sec: 156.57 - lr: 0.000001\n",
            "2023-01-02 06:17:09,597 epoch 14 - iter 9/11 - loss 0.01680823 - samples/sec: 148.42 - lr: 0.000001\n",
            "2023-01-02 06:17:09,836 epoch 14 - iter 10/11 - loss 0.01710404 - samples/sec: 139.11 - lr: 0.000001\n",
            "2023-01-02 06:17:10,414 epoch 14 - iter 11/11 - loss 0.01696359 - samples/sec: 56.27 - lr: 0.000001\n",
            "2023-01-02 06:17:10,418 ----------------------------------------------------------------------------------------------------\n",
            "2023-01-02 06:17:10,420 EPOCH 14 done: loss 0.0170 - lr 0.000001\n"
          ]
        },
        {
          "output_type": "stream",
          "name": "stderr",
          "text": [
            "100%|██████████| 2/2 [00:00<00:00, 23.49it/s]"
          ]
        },
        {
          "output_type": "stream",
          "name": "stdout",
          "text": [
            "2023-01-02 06:17:10,514 Evaluating as a multi-label problem: False\n",
            "2023-01-02 06:17:10,526 DEV : loss 0.01888488419353962 - f1-score (micro avg)  0.9744\n",
            "2023-01-02 06:17:10,535 BAD EPOCHS (no improvement): 0\n",
            "2023-01-02 06:17:10,537 saving best model\n"
          ]
        },
        {
          "output_type": "stream",
          "name": "stderr",
          "text": [
            "\n"
          ]
        },
        {
          "output_type": "stream",
          "name": "stdout",
          "text": [
            "2023-01-02 06:17:12,426 ----------------------------------------------------------------------------------------------------\n",
            "2023-01-02 06:17:12,769 epoch 15 - iter 1/11 - loss 0.01567290 - samples/sec: 96.46 - lr: 0.000001\n",
            "2023-01-02 06:17:13,020 epoch 15 - iter 2/11 - loss 0.01725491 - samples/sec: 131.98 - lr: 0.000001\n",
            "2023-01-02 06:17:13,665 epoch 15 - iter 3/11 - loss 0.01638306 - samples/sec: 50.37 - lr: 0.000001\n",
            "2023-01-02 06:17:13,888 epoch 15 - iter 4/11 - loss 0.01666592 - samples/sec: 149.15 - lr: 0.000001\n",
            "2023-01-02 06:17:14,105 epoch 15 - iter 5/11 - loss 0.01683157 - samples/sec: 153.79 - lr: 0.000001\n",
            "2023-01-02 06:17:14,330 epoch 15 - iter 6/11 - loss 0.01640715 - samples/sec: 147.50 - lr: 0.000001\n",
            "2023-01-02 06:17:14,533 epoch 15 - iter 7/11 - loss 0.01665376 - samples/sec: 163.18 - lr: 0.000001\n",
            "2023-01-02 06:17:14,800 epoch 15 - iter 8/11 - loss 0.01652190 - samples/sec: 124.77 - lr: 0.000001\n",
            "2023-01-02 06:17:15,059 epoch 15 - iter 9/11 - loss 0.01649746 - samples/sec: 127.32 - lr: 0.000001\n",
            "2023-01-02 06:17:15,253 epoch 15 - iter 10/11 - loss 0.01648990 - samples/sec: 171.71 - lr: 0.000001\n",
            "2023-01-02 06:17:15,474 epoch 15 - iter 11/11 - loss 0.01640471 - samples/sec: 149.73 - lr: 0.000001\n",
            "2023-01-02 06:17:15,477 ----------------------------------------------------------------------------------------------------\n",
            "2023-01-02 06:17:15,481 EPOCH 15 done: loss 0.0164 - lr 0.000001\n"
          ]
        },
        {
          "output_type": "stream",
          "name": "stderr",
          "text": [
            "100%|██████████| 2/2 [00:00<00:00, 23.96it/s]"
          ]
        },
        {
          "output_type": "stream",
          "name": "stdout",
          "text": [
            "2023-01-02 06:17:15,573 Evaluating as a multi-label problem: False\n",
            "2023-01-02 06:17:15,583 DEV : loss 0.017552679404616356 - f1-score (micro avg)  0.9744\n",
            "2023-01-02 06:17:15,592 BAD EPOCHS (no improvement): 0\n",
            "2023-01-02 06:17:15,593 ----------------------------------------------------------------------------------------------------\n"
          ]
        },
        {
          "output_type": "stream",
          "name": "stderr",
          "text": [
            "\n"
          ]
        },
        {
          "output_type": "stream",
          "name": "stdout",
          "text": [
            "2023-01-02 06:17:15,863 epoch 16 - iter 1/11 - loss 0.01321395 - samples/sec: 124.05 - lr: 0.000001\n",
            "2023-01-02 06:17:16,082 epoch 16 - iter 2/11 - loss 0.01460123 - samples/sec: 151.69 - lr: 0.000001\n",
            "2023-01-02 06:17:16,289 epoch 16 - iter 3/11 - loss 0.01489780 - samples/sec: 160.08 - lr: 0.000001\n",
            "2023-01-02 06:17:16,516 epoch 16 - iter 4/11 - loss 0.01530538 - samples/sec: 146.09 - lr: 0.000001\n",
            "2023-01-02 06:17:16,777 epoch 16 - iter 5/11 - loss 0.01564776 - samples/sec: 126.55 - lr: 0.000001\n",
            "2023-01-02 06:17:17,409 epoch 16 - iter 6/11 - loss 0.01559666 - samples/sec: 51.38 - lr: 0.000001\n",
            "2023-01-02 06:17:17,669 epoch 16 - iter 7/11 - loss 0.01591118 - samples/sec: 127.45 - lr: 0.000001\n",
            "2023-01-02 06:17:17,901 epoch 16 - iter 8/11 - loss 0.01563765 - samples/sec: 142.82 - lr: 0.000001\n",
            "2023-01-02 06:17:18,114 epoch 16 - iter 9/11 - loss 0.01612956 - samples/sec: 155.82 - lr: 0.000001\n",
            "2023-01-02 06:17:18,334 epoch 16 - iter 10/11 - loss 0.01612770 - samples/sec: 151.21 - lr: 0.000001\n",
            "2023-01-02 06:17:18,535 epoch 16 - iter 11/11 - loss 0.01629318 - samples/sec: 165.77 - lr: 0.000001\n",
            "2023-01-02 06:17:18,538 ----------------------------------------------------------------------------------------------------\n",
            "2023-01-02 06:17:18,541 EPOCH 16 done: loss 0.0163 - lr 0.000001\n"
          ]
        },
        {
          "output_type": "stream",
          "name": "stderr",
          "text": [
            "100%|██████████| 2/2 [00:00<00:00, 22.35it/s]"
          ]
        },
        {
          "output_type": "stream",
          "name": "stdout",
          "text": [
            "2023-01-02 06:17:18,645 Evaluating as a multi-label problem: False\n",
            "2023-01-02 06:17:18,654 DEV : loss 0.016510242596268654 - f1-score (micro avg)  0.9744\n",
            "2023-01-02 06:17:18,663 BAD EPOCHS (no improvement): 0\n",
            "2023-01-02 06:17:18,664 ----------------------------------------------------------------------------------------------------\n"
          ]
        },
        {
          "output_type": "stream",
          "name": "stderr",
          "text": [
            "\n"
          ]
        },
        {
          "output_type": "stream",
          "name": "stdout",
          "text": [
            "2023-01-02 06:17:18,886 epoch 17 - iter 1/11 - loss 0.01237454 - samples/sec: 151.47 - lr: 0.000001\n",
            "2023-01-02 06:17:19,118 epoch 17 - iter 2/11 - loss 0.01419418 - samples/sec: 142.56 - lr: 0.000001\n",
            "2023-01-02 06:17:19,350 epoch 17 - iter 3/11 - loss 0.01489430 - samples/sec: 142.73 - lr: 0.000001\n",
            "2023-01-02 06:17:19,617 epoch 17 - iter 4/11 - loss 0.01492226 - samples/sec: 124.16 - lr: 0.000001\n",
            "2023-01-02 06:17:20,253 epoch 17 - iter 5/11 - loss 0.01460504 - samples/sec: 51.09 - lr: 0.000001\n",
            "2023-01-02 06:17:20,499 epoch 17 - iter 6/11 - loss 0.01511896 - samples/sec: 134.34 - lr: 0.000001\n",
            "2023-01-02 06:17:20,781 epoch 17 - iter 7/11 - loss 0.01458419 - samples/sec: 117.37 - lr: 0.000001\n",
            "2023-01-02 06:17:21,009 epoch 17 - iter 8/11 - loss 0.01421643 - samples/sec: 146.11 - lr: 0.000001\n",
            "2023-01-02 06:17:21,210 epoch 17 - iter 9/11 - loss 0.01450731 - samples/sec: 165.73 - lr: 0.000001\n",
            "2023-01-02 06:17:21,409 epoch 17 - iter 10/11 - loss 0.01512541 - samples/sec: 167.58 - lr: 0.000001\n",
            "2023-01-02 06:17:21,626 epoch 17 - iter 11/11 - loss 0.01543031 - samples/sec: 152.21 - lr: 0.000001\n",
            "2023-01-02 06:17:21,628 ----------------------------------------------------------------------------------------------------\n",
            "2023-01-02 06:17:21,632 EPOCH 17 done: loss 0.0154 - lr 0.000001\n"
          ]
        },
        {
          "output_type": "stream",
          "name": "stderr",
          "text": [
            "100%|██████████| 2/2 [00:00<00:00, 23.34it/s]"
          ]
        },
        {
          "output_type": "stream",
          "name": "stdout",
          "text": [
            "2023-01-02 06:17:21,728 Evaluating as a multi-label problem: False\n",
            "2023-01-02 06:17:21,739 DEV : loss 0.01549516897648573 - f1-score (micro avg)  0.9744\n",
            "2023-01-02 06:17:21,748 BAD EPOCHS (no improvement): 0\n",
            "2023-01-02 06:17:21,749 ----------------------------------------------------------------------------------------------------\n"
          ]
        },
        {
          "output_type": "stream",
          "name": "stderr",
          "text": [
            "\n"
          ]
        },
        {
          "output_type": "stream",
          "name": "stdout",
          "text": [
            "2023-01-02 06:17:21,963 epoch 18 - iter 1/11 - loss 0.01498811 - samples/sec: 156.24 - lr: 0.000001\n",
            "2023-01-02 06:17:22,616 epoch 18 - iter 2/11 - loss 0.01475933 - samples/sec: 49.88 - lr: 0.000001\n",
            "2023-01-02 06:17:22,840 epoch 18 - iter 3/11 - loss 0.01435720 - samples/sec: 148.85 - lr: 0.000001\n",
            "2023-01-02 06:17:23,058 epoch 18 - iter 4/11 - loss 0.01388295 - samples/sec: 154.17 - lr: 0.000001\n",
            "2023-01-02 06:17:23,250 epoch 18 - iter 5/11 - loss 0.01343110 - samples/sec: 174.01 - lr: 0.000001\n",
            "2023-01-02 06:17:23,506 epoch 18 - iter 6/11 - loss 0.01405597 - samples/sec: 129.78 - lr: 0.000001\n",
            "2023-01-02 06:17:23,779 epoch 18 - iter 7/11 - loss 0.01389495 - samples/sec: 121.65 - lr: 0.000001\n",
            "2023-01-02 06:17:24,011 epoch 18 - iter 8/11 - loss 0.01404436 - samples/sec: 144.09 - lr: 0.000001\n",
            "2023-01-02 06:17:24,203 epoch 18 - iter 9/11 - loss 0.01450832 - samples/sec: 173.41 - lr: 0.000001\n",
            "2023-01-02 06:17:24,425 epoch 18 - iter 10/11 - loss 0.01481733 - samples/sec: 151.02 - lr: 0.000001\n",
            "2023-01-02 06:17:24,644 epoch 18 - iter 11/11 - loss 0.01487608 - samples/sec: 151.72 - lr: 0.000001\n",
            "2023-01-02 06:17:24,647 ----------------------------------------------------------------------------------------------------\n",
            "2023-01-02 06:17:24,649 EPOCH 18 done: loss 0.0149 - lr 0.000001\n"
          ]
        },
        {
          "output_type": "stream",
          "name": "stderr",
          "text": [
            "100%|██████████| 2/2 [00:00<00:00, 22.58it/s]"
          ]
        },
        {
          "output_type": "stream",
          "name": "stdout",
          "text": [
            "2023-01-02 06:17:24,751 Evaluating as a multi-label problem: False\n",
            "2023-01-02 06:17:24,763 DEV : loss 0.0144841643050313 - f1-score (micro avg)  0.9744\n",
            "2023-01-02 06:17:24,775 BAD EPOCHS (no improvement): 0\n",
            "2023-01-02 06:17:24,776 ----------------------------------------------------------------------------------------------------\n"
          ]
        },
        {
          "output_type": "stream",
          "name": "stderr",
          "text": [
            "\n"
          ]
        },
        {
          "output_type": "stream",
          "name": "stdout",
          "text": [
            "2023-01-02 06:17:24,962 epoch 19 - iter 1/11 - loss 0.01450425 - samples/sec: 180.93 - lr: 0.000001\n",
            "2023-01-02 06:17:25,219 epoch 19 - iter 2/11 - loss 0.01509607 - samples/sec: 128.48 - lr: 0.000001\n",
            "2023-01-02 06:17:25,487 epoch 19 - iter 3/11 - loss 0.01481535 - samples/sec: 123.57 - lr: 0.000001\n",
            "2023-01-02 06:17:25,742 epoch 19 - iter 4/11 - loss 0.01470131 - samples/sec: 130.42 - lr: 0.000001\n",
            "2023-01-02 06:17:26,007 epoch 19 - iter 5/11 - loss 0.01505948 - samples/sec: 124.94 - lr: 0.000001\n",
            "2023-01-02 06:17:26,660 epoch 19 - iter 6/11 - loss 0.01436067 - samples/sec: 49.86 - lr: 0.000001\n",
            "2023-01-02 06:17:26,890 epoch 19 - iter 7/11 - loss 0.01433646 - samples/sec: 145.09 - lr: 0.000001\n",
            "2023-01-02 06:17:27,115 epoch 19 - iter 8/11 - loss 0.01437333 - samples/sec: 147.33 - lr: 0.000001\n",
            "2023-01-02 06:17:27,352 epoch 19 - iter 9/11 - loss 0.01481230 - samples/sec: 140.04 - lr: 0.000001\n",
            "2023-01-02 06:17:27,590 epoch 19 - iter 10/11 - loss 0.01490379 - samples/sec: 140.00 - lr: 0.000001\n",
            "2023-01-02 06:17:27,815 epoch 19 - iter 11/11 - loss 0.01520601 - samples/sec: 148.13 - lr: 0.000001\n",
            "2023-01-02 06:17:27,818 ----------------------------------------------------------------------------------------------------\n",
            "2023-01-02 06:17:27,820 EPOCH 19 done: loss 0.0152 - lr 0.000001\n"
          ]
        },
        {
          "output_type": "stream",
          "name": "stderr",
          "text": [
            "100%|██████████| 2/2 [00:00<00:00, 23.30it/s]"
          ]
        },
        {
          "output_type": "stream",
          "name": "stdout",
          "text": [
            "2023-01-02 06:17:27,918 Evaluating as a multi-label problem: False\n",
            "2023-01-02 06:17:27,928 DEV : loss 0.013508237898349762 - f1-score (micro avg)  0.9744\n",
            "2023-01-02 06:17:27,939 BAD EPOCHS (no improvement): 0\n",
            "2023-01-02 06:17:27,941 ----------------------------------------------------------------------------------------------------\n"
          ]
        },
        {
          "output_type": "stream",
          "name": "stderr",
          "text": [
            "\n"
          ]
        },
        {
          "output_type": "stream",
          "name": "stdout",
          "text": [
            "2023-01-02 06:17:28,590 epoch 20 - iter 1/11 - loss 0.01814879 - samples/sec: 50.22 - lr: 0.000001\n",
            "2023-01-02 06:17:28,834 epoch 20 - iter 2/11 - loss 0.01632563 - samples/sec: 136.06 - lr: 0.000001\n",
            "2023-01-02 06:17:29,049 epoch 20 - iter 3/11 - loss 0.01423446 - samples/sec: 155.38 - lr: 0.000001\n",
            "2023-01-02 06:17:29,247 epoch 20 - iter 4/11 - loss 0.01362282 - samples/sec: 168.06 - lr: 0.000001\n",
            "2023-01-02 06:17:29,434 epoch 20 - iter 5/11 - loss 0.01405408 - samples/sec: 178.14 - lr: 0.000001\n",
            "2023-01-02 06:17:29,619 epoch 20 - iter 6/11 - loss 0.01390292 - samples/sec: 179.70 - lr: 0.000001\n",
            "2023-01-02 06:17:29,833 epoch 20 - iter 7/11 - loss 0.01383092 - samples/sec: 156.44 - lr: 0.000001\n",
            "2023-01-02 06:17:30,094 epoch 20 - iter 8/11 - loss 0.01381681 - samples/sec: 127.67 - lr: 0.000001\n",
            "2023-01-02 06:17:30,304 epoch 20 - iter 9/11 - loss 0.01389545 - samples/sec: 158.64 - lr: 0.000001\n",
            "2023-01-02 06:17:30,555 epoch 20 - iter 10/11 - loss 0.01380765 - samples/sec: 131.68 - lr: 0.000001\n",
            "2023-01-02 06:17:30,754 epoch 20 - iter 11/11 - loss 0.01424225 - samples/sec: 166.96 - lr: 0.000001\n",
            "2023-01-02 06:17:30,757 ----------------------------------------------------------------------------------------------------\n",
            "2023-01-02 06:17:30,759 EPOCH 20 done: loss 0.0142 - lr 0.000001\n"
          ]
        },
        {
          "output_type": "stream",
          "name": "stderr",
          "text": [
            "100%|██████████| 2/2 [00:00<00:00, 22.41it/s]"
          ]
        },
        {
          "output_type": "stream",
          "name": "stdout",
          "text": [
            "2023-01-02 06:17:30,865 Evaluating as a multi-label problem: False\n",
            "2023-01-02 06:17:30,877 DEV : loss 0.012749857269227505 - f1-score (micro avg)  0.9744\n",
            "2023-01-02 06:17:30,886 BAD EPOCHS (no improvement): 0\n",
            "2023-01-02 06:17:30,888 ----------------------------------------------------------------------------------------------------\n"
          ]
        },
        {
          "output_type": "stream",
          "name": "stderr",
          "text": [
            "\n"
          ]
        },
        {
          "output_type": "stream",
          "name": "stdout",
          "text": [
            "2023-01-02 06:17:31,161 epoch 21 - iter 1/11 - loss 0.01310178 - samples/sec: 122.19 - lr: 0.000001\n",
            "2023-01-02 06:17:31,369 epoch 21 - iter 2/11 - loss 0.01425046 - samples/sec: 160.50 - lr: 0.000001\n",
            "2023-01-02 06:17:31,559 epoch 21 - iter 3/11 - loss 0.01356446 - samples/sec: 175.82 - lr: 0.000001\n",
            "2023-01-02 06:17:31,791 epoch 21 - iter 4/11 - loss 0.01346496 - samples/sec: 143.96 - lr: 0.000001\n",
            "2023-01-02 06:17:32,012 epoch 21 - iter 5/11 - loss 0.01284502 - samples/sec: 150.82 - lr: 0.000001\n",
            "2023-01-02 06:17:32,213 epoch 21 - iter 6/11 - loss 0.01307929 - samples/sec: 167.07 - lr: 0.000001\n",
            "2023-01-02 06:17:32,471 epoch 21 - iter 7/11 - loss 0.01362003 - samples/sec: 128.72 - lr: 0.000001\n",
            "2023-01-02 06:17:32,682 epoch 21 - iter 8/11 - loss 0.01370843 - samples/sec: 157.85 - lr: 0.000001\n",
            "2023-01-02 06:17:33,336 epoch 21 - iter 9/11 - loss 0.01333620 - samples/sec: 49.63 - lr: 0.000001\n",
            "2023-01-02 06:17:33,568 epoch 21 - iter 10/11 - loss 0.01352899 - samples/sec: 143.65 - lr: 0.000001\n",
            "2023-01-02 06:17:33,798 epoch 21 - iter 11/11 - loss 0.01370908 - samples/sec: 144.43 - lr: 0.000001\n",
            "2023-01-02 06:17:33,802 ----------------------------------------------------------------------------------------------------\n",
            "2023-01-02 06:17:33,806 EPOCH 21 done: loss 0.0137 - lr 0.000001\n"
          ]
        },
        {
          "output_type": "stream",
          "name": "stderr",
          "text": [
            "100%|██████████| 2/2 [00:00<00:00, 22.97it/s]"
          ]
        },
        {
          "output_type": "stream",
          "name": "stdout",
          "text": [
            "2023-01-02 06:17:33,902 Evaluating as a multi-label problem: False\n",
            "2023-01-02 06:17:33,918 DEV : loss 0.01214172039180994 - f1-score (micro avg)  0.9744\n",
            "2023-01-02 06:17:33,928 BAD EPOCHS (no improvement): 0\n",
            "2023-01-02 06:17:33,930 ----------------------------------------------------------------------------------------------------\n"
          ]
        },
        {
          "output_type": "stream",
          "name": "stderr",
          "text": [
            "\n"
          ]
        },
        {
          "output_type": "stream",
          "name": "stdout",
          "text": [
            "2023-01-02 06:17:34,200 epoch 22 - iter 1/11 - loss 0.01286309 - samples/sec: 122.63 - lr: 0.000001\n",
            "2023-01-02 06:17:34,517 epoch 22 - iter 2/11 - loss 0.01458783 - samples/sec: 104.45 - lr: 0.000001\n",
            "2023-01-02 06:17:34,756 epoch 22 - iter 3/11 - loss 0.01447976 - samples/sec: 139.98 - lr: 0.000001\n",
            "2023-01-02 06:17:35,041 epoch 22 - iter 4/11 - loss 0.01342394 - samples/sec: 118.45 - lr: 0.000001\n",
            "2023-01-02 06:17:35,319 epoch 22 - iter 5/11 - loss 0.01333000 - samples/sec: 119.88 - lr: 0.000001\n",
            "2023-01-02 06:17:36,016 epoch 22 - iter 6/11 - loss 0.01366514 - samples/sec: 46.79 - lr: 0.000001\n",
            "2023-01-02 06:17:36,329 epoch 22 - iter 7/11 - loss 0.01384901 - samples/sec: 106.01 - lr: 0.000001\n",
            "2023-01-02 06:17:36,538 epoch 22 - iter 8/11 - loss 0.01403023 - samples/sec: 161.69 - lr: 0.000001\n",
            "2023-01-02 06:17:36,826 epoch 22 - iter 9/11 - loss 0.01407663 - samples/sec: 116.68 - lr: 0.000001\n",
            "2023-01-02 06:17:37,109 epoch 22 - iter 10/11 - loss 0.01397567 - samples/sec: 120.78 - lr: 0.000001\n",
            "2023-01-02 06:17:37,329 epoch 22 - iter 11/11 - loss 0.01386593 - samples/sec: 154.41 - lr: 0.000001\n",
            "2023-01-02 06:17:37,336 ----------------------------------------------------------------------------------------------------\n",
            "2023-01-02 06:17:37,338 EPOCH 22 done: loss 0.0139 - lr 0.000001\n"
          ]
        },
        {
          "output_type": "stream",
          "name": "stderr",
          "text": [
            "100%|██████████| 2/2 [00:00<00:00, 15.97it/s]"
          ]
        },
        {
          "output_type": "stream",
          "name": "stdout",
          "text": [
            "2023-01-02 06:17:37,477 Evaluating as a multi-label problem: False\n",
            "2023-01-02 06:17:37,489 DEV : loss 0.01159027498215437 - f1-score (micro avg)  0.9744\n",
            "2023-01-02 06:17:37,502 BAD EPOCHS (no improvement): 0\n",
            "2023-01-02 06:17:37,504 ----------------------------------------------------------------------------------------------------\n"
          ]
        },
        {
          "output_type": "stream",
          "name": "stderr",
          "text": [
            "\n"
          ]
        },
        {
          "output_type": "stream",
          "name": "stdout",
          "text": [
            "2023-01-02 06:17:37,709 epoch 23 - iter 1/11 - loss 0.01525807 - samples/sec: 163.41 - lr: 0.000001\n",
            "2023-01-02 06:17:38,357 epoch 23 - iter 2/11 - loss 0.01219652 - samples/sec: 50.10 - lr: 0.000001\n",
            "2023-01-02 06:17:38,581 epoch 23 - iter 3/11 - loss 0.01160086 - samples/sec: 149.47 - lr: 0.000001\n",
            "2023-01-02 06:17:38,800 epoch 23 - iter 4/11 - loss 0.01267782 - samples/sec: 151.19 - lr: 0.000001\n",
            "2023-01-02 06:17:39,040 epoch 23 - iter 5/11 - loss 0.01208552 - samples/sec: 139.11 - lr: 0.000001\n",
            "2023-01-02 06:17:39,303 epoch 23 - iter 6/11 - loss 0.01195913 - samples/sec: 125.33 - lr: 0.000001\n",
            "2023-01-02 06:17:39,552 epoch 23 - iter 7/11 - loss 0.01228731 - samples/sec: 132.96 - lr: 0.000001\n",
            "2023-01-02 06:17:39,776 epoch 23 - iter 8/11 - loss 0.01249046 - samples/sec: 149.15 - lr: 0.000001\n",
            "2023-01-02 06:17:40,029 epoch 23 - iter 9/11 - loss 0.01221453 - samples/sec: 131.34 - lr: 0.000001\n",
            "2023-01-02 06:17:40,293 epoch 23 - iter 10/11 - loss 0.01247785 - samples/sec: 124.97 - lr: 0.000001\n",
            "2023-01-02 06:17:40,477 epoch 23 - iter 11/11 - loss 0.01308566 - samples/sec: 181.64 - lr: 0.000001\n",
            "2023-01-02 06:17:40,480 ----------------------------------------------------------------------------------------------------\n",
            "2023-01-02 06:17:40,483 EPOCH 23 done: loss 0.0131 - lr 0.000001\n"
          ]
        },
        {
          "output_type": "stream",
          "name": "stderr",
          "text": [
            "100%|██████████| 2/2 [00:00<00:00, 23.38it/s]"
          ]
        },
        {
          "output_type": "stream",
          "name": "stdout",
          "text": [
            "2023-01-02 06:17:40,577 Evaluating as a multi-label problem: False\n",
            "2023-01-02 06:17:40,590 DEV : loss 0.011029730550944805 - f1-score (micro avg)  0.9744\n",
            "2023-01-02 06:17:40,599 BAD EPOCHS (no improvement): 0\n",
            "2023-01-02 06:17:40,600 ----------------------------------------------------------------------------------------------------\n"
          ]
        },
        {
          "output_type": "stream",
          "name": "stderr",
          "text": [
            "\n"
          ]
        },
        {
          "output_type": "stream",
          "name": "stdout",
          "text": [
            "2023-01-02 06:17:40,826 epoch 24 - iter 1/11 - loss 0.01429229 - samples/sec: 148.30 - lr: 0.000001\n",
            "2023-01-02 06:17:41,078 epoch 24 - iter 2/11 - loss 0.01317152 - samples/sec: 131.32 - lr: 0.000001\n",
            "2023-01-02 06:17:41,332 epoch 24 - iter 3/11 - loss 0.01169648 - samples/sec: 130.75 - lr: 0.000001\n",
            "2023-01-02 06:17:41,581 epoch 24 - iter 4/11 - loss 0.01268935 - samples/sec: 133.78 - lr: 0.000001\n",
            "2023-01-02 06:17:41,852 epoch 24 - iter 5/11 - loss 0.01278086 - samples/sec: 122.31 - lr: 0.000001\n",
            "2023-01-02 06:17:42,095 epoch 24 - iter 6/11 - loss 0.01230411 - samples/sec: 136.40 - lr: 0.000001\n",
            "2023-01-02 06:17:42,304 epoch 24 - iter 7/11 - loss 0.01283935 - samples/sec: 159.48 - lr: 0.000001\n",
            "2023-01-02 06:17:42,519 epoch 24 - iter 8/11 - loss 0.01269155 - samples/sec: 154.60 - lr: 0.000001\n",
            "2023-01-02 06:17:43,171 epoch 24 - iter 9/11 - loss 0.01280892 - samples/sec: 50.28 - lr: 0.000001\n",
            "2023-01-02 06:17:43,402 epoch 24 - iter 10/11 - loss 0.01257059 - samples/sec: 144.31 - lr: 0.000001\n",
            "2023-01-02 06:17:43,581 epoch 24 - iter 11/11 - loss 0.01264170 - samples/sec: 185.51 - lr: 0.000001\n",
            "2023-01-02 06:17:43,586 ----------------------------------------------------------------------------------------------------\n",
            "2023-01-02 06:17:43,588 EPOCH 24 done: loss 0.0126 - lr 0.000001\n"
          ]
        },
        {
          "output_type": "stream",
          "name": "stderr",
          "text": [
            "100%|██████████| 2/2 [00:00<00:00, 22.59it/s]"
          ]
        },
        {
          "output_type": "stream",
          "name": "stdout",
          "text": [
            "2023-01-02 06:17:43,685 Evaluating as a multi-label problem: False\n",
            "2023-01-02 06:17:43,694 DEV : loss 0.010571947321295738 - f1-score (micro avg)  0.9744\n",
            "2023-01-02 06:17:43,704 BAD EPOCHS (no improvement): 0\n",
            "2023-01-02 06:17:43,705 ----------------------------------------------------------------------------------------------------\n"
          ]
        },
        {
          "output_type": "stream",
          "name": "stderr",
          "text": [
            "\n"
          ]
        },
        {
          "output_type": "stream",
          "name": "stdout",
          "text": [
            "2023-01-02 06:17:43,890 epoch 25 - iter 1/11 - loss 0.01239524 - samples/sec: 181.80 - lr: 0.000001\n",
            "2023-01-02 06:17:44,162 epoch 25 - iter 2/11 - loss 0.01186315 - samples/sec: 121.67 - lr: 0.000001\n",
            "2023-01-02 06:17:44,370 epoch 25 - iter 3/11 - loss 0.01208633 - samples/sec: 160.35 - lr: 0.000001\n",
            "2023-01-02 06:17:44,591 epoch 25 - iter 4/11 - loss 0.01166595 - samples/sec: 150.74 - lr: 0.000001\n",
            "2023-01-02 06:17:44,848 epoch 25 - iter 5/11 - loss 0.01185865 - samples/sec: 128.97 - lr: 0.000001\n",
            "2023-01-02 06:17:45,053 epoch 25 - iter 6/11 - loss 0.01148382 - samples/sec: 162.74 - lr: 0.000001\n",
            "2023-01-02 06:17:45,321 epoch 25 - iter 7/11 - loss 0.01190369 - samples/sec: 124.01 - lr: 0.000001\n",
            "2023-01-02 06:17:45,556 epoch 25 - iter 8/11 - loss 0.01235217 - samples/sec: 141.15 - lr: 0.000001\n",
            "2023-01-02 06:17:46,200 epoch 25 - iter 9/11 - loss 0.01213618 - samples/sec: 50.51 - lr: 0.000001\n",
            "2023-01-02 06:17:46,400 epoch 25 - iter 10/11 - loss 0.01260542 - samples/sec: 167.44 - lr: 0.000001\n",
            "2023-01-02 06:17:46,591 epoch 25 - iter 11/11 - loss 0.01266738 - samples/sec: 174.29 - lr: 0.000001\n",
            "2023-01-02 06:17:46,594 ----------------------------------------------------------------------------------------------------\n",
            "2023-01-02 06:17:46,598 EPOCH 25 done: loss 0.0127 - lr 0.000001\n"
          ]
        },
        {
          "output_type": "stream",
          "name": "stderr",
          "text": [
            "100%|██████████| 2/2 [00:00<00:00, 23.21it/s]"
          ]
        },
        {
          "output_type": "stream",
          "name": "stdout",
          "text": [
            "2023-01-02 06:17:46,694 Evaluating as a multi-label problem: False\n",
            "2023-01-02 06:17:46,707 DEV : loss 0.010136761702597141 - f1-score (micro avg)  0.9744\n",
            "2023-01-02 06:17:46,718 BAD EPOCHS (no improvement): 0\n",
            "2023-01-02 06:17:46,719 ----------------------------------------------------------------------------------------------------\n"
          ]
        },
        {
          "output_type": "stream",
          "name": "stderr",
          "text": [
            "\n"
          ]
        },
        {
          "output_type": "stream",
          "name": "stdout",
          "text": [
            "2023-01-02 06:17:46,939 epoch 26 - iter 1/11 - loss 0.01378689 - samples/sec: 152.70 - lr: 0.000001\n",
            "2023-01-02 06:17:47,201 epoch 26 - iter 2/11 - loss 0.01185212 - samples/sec: 127.23 - lr: 0.000001\n",
            "2023-01-02 06:17:47,481 epoch 26 - iter 3/11 - loss 0.01085041 - samples/sec: 117.75 - lr: 0.000001\n",
            "2023-01-02 06:17:48,128 epoch 26 - iter 4/11 - loss 0.01060897 - samples/sec: 50.22 - lr: 0.000001\n",
            "2023-01-02 06:17:48,383 epoch 26 - iter 5/11 - loss 0.01024331 - samples/sec: 130.13 - lr: 0.000001\n",
            "2023-01-02 06:17:48,606 epoch 26 - iter 6/11 - loss 0.01122147 - samples/sec: 149.29 - lr: 0.000001\n",
            "2023-01-02 06:17:48,826 epoch 26 - iter 7/11 - loss 0.01120005 - samples/sec: 152.27 - lr: 0.000001\n",
            "2023-01-02 06:17:49,053 epoch 26 - iter 8/11 - loss 0.01124996 - samples/sec: 146.17 - lr: 0.000001\n",
            "2023-01-02 06:17:49,304 epoch 26 - iter 9/11 - loss 0.01163295 - samples/sec: 132.27 - lr: 0.000001\n",
            "2023-01-02 06:17:49,526 epoch 26 - iter 10/11 - loss 0.01162470 - samples/sec: 151.00 - lr: 0.000001\n",
            "2023-01-02 06:17:49,723 epoch 26 - iter 11/11 - loss 0.01200131 - samples/sec: 169.59 - lr: 0.000001\n",
            "2023-01-02 06:17:49,726 ----------------------------------------------------------------------------------------------------\n",
            "2023-01-02 06:17:49,730 EPOCH 26 done: loss 0.0120 - lr 0.000001\n"
          ]
        },
        {
          "output_type": "stream",
          "name": "stderr",
          "text": [
            "100%|██████████| 2/2 [00:00<00:00, 22.90it/s]"
          ]
        },
        {
          "output_type": "stream",
          "name": "stdout",
          "text": [
            "2023-01-02 06:17:49,827 Evaluating as a multi-label problem: False\n",
            "2023-01-02 06:17:49,839 DEV : loss 0.009760446846485138 - f1-score (micro avg)  0.9744\n",
            "2023-01-02 06:17:49,849 BAD EPOCHS (no improvement): 0\n",
            "2023-01-02 06:17:49,851 ----------------------------------------------------------------------------------------------------\n"
          ]
        },
        {
          "output_type": "stream",
          "name": "stderr",
          "text": [
            "\n"
          ]
        },
        {
          "output_type": "stream",
          "name": "stdout",
          "text": [
            "2023-01-02 06:17:50,507 epoch 27 - iter 1/11 - loss 0.00849149 - samples/sec: 49.68 - lr: 0.000001\n",
            "2023-01-02 06:17:50,709 epoch 27 - iter 2/11 - loss 0.00878253 - samples/sec: 166.00 - lr: 0.000001\n",
            "2023-01-02 06:17:50,962 epoch 27 - iter 3/11 - loss 0.00995086 - samples/sec: 131.34 - lr: 0.000001\n",
            "2023-01-02 06:17:51,189 epoch 27 - iter 4/11 - loss 0.01167429 - samples/sec: 146.59 - lr: 0.000001\n",
            "2023-01-02 06:17:51,400 epoch 27 - iter 5/11 - loss 0.01153331 - samples/sec: 157.01 - lr: 0.000001\n",
            "2023-01-02 06:17:51,613 epoch 27 - iter 6/11 - loss 0.01187649 - samples/sec: 156.71 - lr: 0.000001\n",
            "2023-01-02 06:17:51,866 epoch 27 - iter 7/11 - loss 0.01145569 - samples/sec: 131.22 - lr: 0.000001\n",
            "2023-01-02 06:17:52,139 epoch 27 - iter 8/11 - loss 0.01181464 - samples/sec: 121.64 - lr: 0.000001\n",
            "2023-01-02 06:17:52,356 epoch 27 - iter 9/11 - loss 0.01162405 - samples/sec: 152.99 - lr: 0.000001\n",
            "2023-01-02 06:17:52,561 epoch 27 - iter 10/11 - loss 0.01200670 - samples/sec: 162.97 - lr: 0.000001\n",
            "2023-01-02 06:17:52,758 epoch 27 - iter 11/11 - loss 0.01214245 - samples/sec: 168.67 - lr: 0.000001\n",
            "2023-01-02 06:17:52,761 ----------------------------------------------------------------------------------------------------\n",
            "2023-01-02 06:17:52,765 EPOCH 27 done: loss 0.0121 - lr 0.000001\n"
          ]
        },
        {
          "output_type": "stream",
          "name": "stderr",
          "text": [
            "100%|██████████| 2/2 [00:00<00:00, 23.03it/s]"
          ]
        },
        {
          "output_type": "stream",
          "name": "stdout",
          "text": [
            "2023-01-02 06:17:52,865 Evaluating as a multi-label problem: False\n",
            "2023-01-02 06:17:52,880 DEV : loss 0.00940112303942442 - f1-score (micro avg)  0.9744\n",
            "2023-01-02 06:17:52,889 BAD EPOCHS (no improvement): 0\n",
            "2023-01-02 06:17:52,891 ----------------------------------------------------------------------------------------------------\n"
          ]
        },
        {
          "output_type": "stream",
          "name": "stderr",
          "text": [
            "\n"
          ]
        },
        {
          "output_type": "stream",
          "name": "stdout",
          "text": [
            "2023-01-02 06:17:53,119 epoch 28 - iter 1/11 - loss 0.01466083 - samples/sec: 148.56 - lr: 0.000001\n",
            "2023-01-02 06:17:53,388 epoch 28 - iter 2/11 - loss 0.01294638 - samples/sec: 122.70 - lr: 0.000001\n",
            "2023-01-02 06:17:53,581 epoch 28 - iter 3/11 - loss 0.01273757 - samples/sec: 172.79 - lr: 0.000001\n",
            "2023-01-02 06:17:53,847 epoch 28 - iter 4/11 - loss 0.01187757 - samples/sec: 125.88 - lr: 0.000001\n",
            "2023-01-02 06:17:54,080 epoch 28 - iter 5/11 - loss 0.01122096 - samples/sec: 142.95 - lr: 0.000001\n",
            "2023-01-02 06:17:54,350 epoch 28 - iter 6/11 - loss 0.01150163 - samples/sec: 123.00 - lr: 0.000001\n",
            "2023-01-02 06:17:54,566 epoch 28 - iter 7/11 - loss 0.01188799 - samples/sec: 153.81 - lr: 0.000001\n",
            "2023-01-02 06:17:55,210 epoch 28 - iter 8/11 - loss 0.01186464 - samples/sec: 50.46 - lr: 0.000001\n",
            "2023-01-02 06:17:55,412 epoch 28 - iter 9/11 - loss 0.01203070 - samples/sec: 165.16 - lr: 0.000001\n",
            "2023-01-02 06:17:55,618 epoch 28 - iter 10/11 - loss 0.01180694 - samples/sec: 161.79 - lr: 0.000001\n",
            "2023-01-02 06:17:55,808 epoch 28 - iter 11/11 - loss 0.01179831 - samples/sec: 175.66 - lr: 0.000001\n",
            "2023-01-02 06:17:55,811 ----------------------------------------------------------------------------------------------------\n",
            "2023-01-02 06:17:55,814 EPOCH 28 done: loss 0.0118 - lr 0.000001\n"
          ]
        },
        {
          "output_type": "stream",
          "name": "stderr",
          "text": [
            "100%|██████████| 2/2 [00:00<00:00, 22.90it/s]"
          ]
        },
        {
          "output_type": "stream",
          "name": "stdout",
          "text": [
            "2023-01-02 06:17:55,916 Evaluating as a multi-label problem: False\n",
            "2023-01-02 06:17:55,925 DEV : loss 0.009090901352465153 - f1-score (micro avg)  0.9744\n",
            "2023-01-02 06:17:55,935 BAD EPOCHS (no improvement): 0\n",
            "2023-01-02 06:17:55,938 ----------------------------------------------------------------------------------------------------\n"
          ]
        },
        {
          "output_type": "stream",
          "name": "stderr",
          "text": [
            "\n"
          ]
        },
        {
          "output_type": "stream",
          "name": "stdout",
          "text": [
            "2023-01-02 06:17:56,199 epoch 29 - iter 1/11 - loss 0.00816220 - samples/sec: 128.04 - lr: 0.000001\n",
            "2023-01-02 06:17:56,470 epoch 29 - iter 2/11 - loss 0.00837280 - samples/sec: 123.61 - lr: 0.000001\n",
            "2023-01-02 06:17:56,669 epoch 29 - iter 3/11 - loss 0.00859217 - samples/sec: 166.96 - lr: 0.000001\n",
            "2023-01-02 06:17:57,321 epoch 29 - iter 4/11 - loss 0.00982290 - samples/sec: 49.98 - lr: 0.000001\n",
            "2023-01-02 06:17:57,528 epoch 29 - iter 5/11 - loss 0.00994171 - samples/sec: 160.65 - lr: 0.000001\n",
            "2023-01-02 06:17:57,793 epoch 29 - iter 6/11 - loss 0.01094280 - samples/sec: 125.33 - lr: 0.000001\n",
            "2023-01-02 06:17:58,015 epoch 29 - iter 7/11 - loss 0.01118681 - samples/sec: 149.53 - lr: 0.000001\n",
            "2023-01-02 06:17:58,226 epoch 29 - iter 8/11 - loss 0.01168691 - samples/sec: 157.97 - lr: 0.000001\n",
            "2023-01-02 06:17:58,458 epoch 29 - iter 9/11 - loss 0.01139817 - samples/sec: 144.09 - lr: 0.000001\n",
            "2023-01-02 06:17:58,672 epoch 29 - iter 10/11 - loss 0.01120150 - samples/sec: 155.31 - lr: 0.000001\n",
            "2023-01-02 06:17:58,901 epoch 29 - iter 11/11 - loss 0.01150386 - samples/sec: 145.53 - lr: 0.000001\n",
            "2023-01-02 06:17:58,905 ----------------------------------------------------------------------------------------------------\n",
            "2023-01-02 06:17:58,909 EPOCH 29 done: loss 0.0115 - lr 0.000001\n"
          ]
        },
        {
          "output_type": "stream",
          "name": "stderr",
          "text": [
            "100%|██████████| 2/2 [00:00<00:00, 22.78it/s]"
          ]
        },
        {
          "output_type": "stream",
          "name": "stdout",
          "text": [
            "2023-01-02 06:17:59,007 Evaluating as a multi-label problem: False\n",
            "2023-01-02 06:17:59,021 DEV : loss 0.008832154795527458 - f1-score (micro avg)  0.9744\n",
            "2023-01-02 06:17:59,032 BAD EPOCHS (no improvement): 0\n",
            "2023-01-02 06:17:59,034 ----------------------------------------------------------------------------------------------------\n"
          ]
        },
        {
          "output_type": "stream",
          "name": "stderr",
          "text": [
            "\n"
          ]
        },
        {
          "output_type": "stream",
          "name": "stdout",
          "text": [
            "2023-01-02 06:17:59,253 epoch 30 - iter 1/11 - loss 0.01244930 - samples/sec: 153.99 - lr: 0.000001\n",
            "2023-01-02 06:17:59,508 epoch 30 - iter 2/11 - loss 0.01272514 - samples/sec: 131.58 - lr: 0.000001\n",
            "2023-01-02 06:17:59,763 epoch 30 - iter 3/11 - loss 0.01170527 - samples/sec: 130.32 - lr: 0.000001\n",
            "2023-01-02 06:18:00,024 epoch 30 - iter 4/11 - loss 0.01121860 - samples/sec: 126.86 - lr: 0.000001\n",
            "2023-01-02 06:18:00,237 epoch 30 - iter 5/11 - loss 0.01094651 - samples/sec: 155.85 - lr: 0.000001\n",
            "2023-01-02 06:18:00,488 epoch 30 - iter 6/11 - loss 0.01069754 - samples/sec: 132.99 - lr: 0.000001\n",
            "2023-01-02 06:18:00,679 epoch 30 - iter 7/11 - loss 0.01159281 - samples/sec: 175.43 - lr: 0.000001\n",
            "2023-01-02 06:18:01,338 epoch 30 - iter 8/11 - loss 0.01132357 - samples/sec: 49.48 - lr: 0.000001\n",
            "2023-01-02 06:18:01,568 epoch 30 - iter 9/11 - loss 0.01139269 - samples/sec: 144.76 - lr: 0.000001\n",
            "2023-01-02 06:18:01,801 epoch 30 - iter 10/11 - loss 0.01142767 - samples/sec: 142.93 - lr: 0.000001\n",
            "2023-01-02 06:18:02,031 epoch 30 - iter 11/11 - loss 0.01110647 - samples/sec: 144.19 - lr: 0.000001\n",
            "2023-01-02 06:18:02,034 ----------------------------------------------------------------------------------------------------\n",
            "2023-01-02 06:18:02,037 EPOCH 30 done: loss 0.0111 - lr 0.000001\n"
          ]
        },
        {
          "output_type": "stream",
          "name": "stderr",
          "text": [
            "100%|██████████| 2/2 [00:00<00:00, 23.42it/s]"
          ]
        },
        {
          "output_type": "stream",
          "name": "stdout",
          "text": [
            "2023-01-02 06:18:02,129 Evaluating as a multi-label problem: False\n",
            "2023-01-02 06:18:02,144 DEV : loss 0.00859711691737175 - f1-score (micro avg)  0.9744\n",
            "2023-01-02 06:18:02,153 BAD EPOCHS (no improvement): 0\n"
          ]
        },
        {
          "output_type": "stream",
          "name": "stderr",
          "text": [
            "\n"
          ]
        },
        {
          "output_type": "stream",
          "name": "stdout",
          "text": [
            "2023-01-02 06:18:03,850 Test data not provided setting final score to 0\n",
            "2023-01-02 06:18:03,859 ----------------------------------------------------------------------------------------------------\n",
            "2023-01-02 06:18:03,860 WARNING: No LOSS found for test split in this data.\n",
            "2023-01-02 06:18:03,865 Are you sure you want to plot LOSS and not another value?\n",
            "2023-01-02 06:18:03,870 ----------------------------------------------------------------------------------------------------\n",
            "2023-01-02 06:18:03,893 ----------------------------------------------------------------------------------------------------\n",
            "2023-01-02 06:18:03,894 WARNING: No F1 found for test split in this data.\n",
            "2023-01-02 06:18:03,898 Are you sure you want to plot F1 and not another value?\n",
            "2023-01-02 06:18:03,903 ----------------------------------------------------------------------------------------------------\n",
            "2023-01-02 06:18:05,625 Loss and F1 plots are saved in resources/taggers/sentiment/training.png\n"
          ]
        },
        {
          "output_type": "display_data",
          "data": {
            "text/plain": [
              "<Figure size 1080x720 with 2 Axes>"
            ],
            "image/png": "[encoded data removed]"
          },
          "metadata": {
            "needs_background": "light"
          }
        },
        {
          "output_type": "stream",
          "name": "stdout",
          "text": [
            "2023-01-02 06:18:06,487 Weights plots are saved in resources/taggers/sentiment/weights.png\n"
          ]
        },
        {
          "output_type": "display_data",
          "data": {
            "text/plain": [
              "<Figure size 576x432 with 4 Axes>"
            ],
            "image/png": "[encoded data removed]"
          },
          "metadata": {}
        }
      ],
      "source": [
        "# generate model and train it\n",
        "\n",
        "# 1. Create a corpus\n",
        "\"\"\"\n",
        "Corpus is like a vocabulary. It contains all the data available.\n",
        "It also splits the training dataset automatically into train and validation data.\n",
        "\"\"\"\n",
        "\n",
        "data_folder = \"/content/data\"\n",
        "column_name_map = {2 : \"text\",\n",
        "                   3 : \"label\"}\n",
        "label_type = \"class\"\n",
        "train_file = \"train.csv\"\n",
        "test_file = \"test.csv\"\n",
        "dev_file = None\n",
        "skip_header = True\n",
        "delimiter = ','\n",
        "quotechar = '\"'\n",
        "corpus : Corpus = CSVClassificationCorpus(data_folder=data_folder,\n",
        "                                          column_name_map=column_name_map,\n",
        "                                          label_type=label_type,\n",
        "                                          train_file=train_file,\n",
        "                                          test_file=test_file,\n",
        "                                          dev_file=dev_file,\n",
        "                                          skip_header=skip_header,\n",
        "                                          delimiter=delimiter,\n",
        "                                          quotechar=quotechar\n",
        "                                          )\n",
        "\n",
        "\n",
        "# 2. Create the label dictionary\n",
        "\"\"\"\n",
        "Label dictionary contains a mapping of labels to positive and negative samples in the dataset.\n",
        "\"\"\"\n",
        "\n",
        "label_dictionary = corpus.make_label_dictionary(label_type=label_type)\n",
        "\n",
        "\n",
        "# 3. Make a list of word embeddings\n",
        "\"\"\"\n",
        "Word embeddings are numerical representations of text. They capture the contextual neaning of each word.\n",
        "We are using the RoBERTa model pre-trained on twitter sentiment analysis dataset.\n",
        "\"\"\"\n",
        "\n",
        "word_embeddings = [TransformerWordEmbeddings('cardiffnlp/twitter-roberta-base-sentiment-latest')]\n",
        "\n",
        "\n",
        "# 4. Make document embeddings\n",
        "\"\"\"\n",
        "Document embeddings convert the word embeddings which are generated for each word into a single embedding for the entire document.\n",
        "This gives us a much denser representation of the document.\n",
        "\"\"\"\n",
        "\n",
        "hidden_size = 512\n",
        "reproject_words = True\n",
        "reproject_words_dimension = 256\n",
        "rnn_type = \"LSTM\"\n",
        "document_embeddings: DocumentRNNEmbeddings = DocumentRNNEmbeddings(embeddings=word_embeddings,\n",
        "                                                                   hidden_size=hidden_size,\n",
        "                                                                   reproject_words=reproject_words,\n",
        "                                                                   reproject_words_dimension=reproject_words_dimension,\n",
        "                                                                   rnn_type=rnn_type\n",
        "                                                                   )        \n",
        "\n",
        "\n",
        "# 5. Create the text classifier\n",
        "\"\"\"\n",
        "This is the model we use for the classifcation of text. \n",
        "\"\"\"\n",
        "\n",
        "classifier = TextClassifier(document_embeddings=document_embeddings,\n",
        "                            label_dictionary=label_dictionary,\n",
        "                            label_type=label_type,\n",
        "                            multi_label=False\n",
        "                            )\n",
        "\n",
        "\n",
        "# 6. initialize the text classifier trainer\n",
        "\"\"\"\n",
        "We are using Flair's inbuilt trainer for training our model\n",
        "\"\"\"\n",
        "\n",
        "trainer = ModelTrainer(model=classifier, corpus=corpus)\n",
        "\n",
        "\n",
        "# 7. start the training\n",
        "\"\"\"\n",
        "We will use the AdamW optimizer and CosineAnnealingLR scheduler from PyTorch library for the best results\n",
        "\"\"\"\n",
        "\n",
        "learning_rate = 1e-6\n",
        "weight_decay = 0.1\n",
        "T_max = 30\n",
        "base_path = \"/content/FlairModel\"\n",
        "max_epochs = 30\n",
        "train_with_dev = False\n",
        "optimizer = AdamW(classifier.parameters(), lr=learning_rate, weight_decay=weight_decay)\n",
        "scheduler = CosineAnnealingLR(optimizer, T_max=T_max)\n",
        "trainer.train(base_path=base_path,\n",
        "              max_epochs=max_epochs,\n",
        "              train_with_dev=train_with_dev,\n",
        "              scheduler=scheduler,\n",
        "              optimizer=optimizer\n",
        "              )\n",
        "\n",
        "# 8. plot training curves (optional)\n",
        "\"\"\"\n",
        "Now we will plot the loss curves of train and test data to understand how good the model is.\n",
        "If the train loss keeps decreasing, but the validation loss decreases and increases it is a sign of overfitting.\n",
        "If the model overfits it cannot generalize well to new data.\n",
        "\"\"\"\n",
        "\n",
        "plotter = Plotter()\n",
        "plotter.plot_training_curves('/content/FlairModel/loss.tsv')"
      ]
    },
    {
      "cell_type": "markdown",
      "source": [
        "# Use trained weights provided by us to load the model\n",
        "\n",
        "\n",
        "\n",
        "1.   Download the trained weights file, final-model.pt from the following \n",
        "[Google Drive Link](https://drive.google.com/file/d/1hUjDOIY8pGvfmPLQFx24kpDS9yZAFB1J/view?usp=share_link)\n",
        "2.   Create a directory called FlairModel in /content in Google Colab\n",
        "3.   Upload final-model.pt to the FlairModel directory\n",
        "4.   Run cells under \"Imports, download datasets, pre-process datasets\" for checking our model's accuracy\n",
        "5.   Move on to results to obtain inferences\n",
        "\n",
        "\n",
        "\n",
        "\n",
        "\n"
      ],
      "metadata": {
        "id": "8FIZrxk5Eps3"
      }
    },
    {
      "cell_type": "markdown",
      "source": [
        "# Results of the model:\n",
        "\n",
        "The loss curves indicate that the model has not overfit to the data and hence the model will be able to generalize well to new data.\n",
        "\n",
        "We achieve a validation F1 score of 0.9744 which is quite good. Some of the feedback sentences are quite ambiguous as to whether they are positive or negative. Hence expecting a machine learning model to classify them correctly is quite the long shot."
      ],
      "metadata": {
        "id": "YzMcXWWuhv5Q"
      }
    },
    {
      "cell_type": "code",
      "source": [
        "# Load the final model with the best fit for inference\n",
        "base_path = \"/content/FlairModel\"\n",
        "model_path = os.path.join(base_path, \"final-model.pt\")\n",
        "classifier = TextClassifier.load(model_path)"
      ],
      "metadata": {
        "id": "mLIkqJr0nN5b"
      },
      "execution_count": null,
      "outputs": []
    },
    {
      "cell_type": "code",
      "source": [
        "# Generate predictions for the train dataset\n",
        "\n",
        "# 1. Generate train sentences\n",
        "train_df=pd.read_csv(\"/content/data/train.csv\")\n",
        "train_sentences=train_df[\"text\"].apply(lambda x: Sentence(x))\n",
        "\n",
        "# 2. Generate predictions for the test sentences\n",
        "predictions = []\n",
        "for i in range(len(train_sentences)):\n",
        "    classifier.predict(train_sentences[i])\n",
        "    predictions.append(int(train_sentences[i].labels[0].value))\n",
        "train_df[\"prediction\"] = predictions\n",
        "\n",
        "# 3. Write the predictions to a .csv file\n",
        "train_df.to_csv(\"Train_Predictions_Without_Confidence_Score.csv\",index=False)\n",
        "\n",
        "# 4. Add the confidence score to the predictions for further analysis and write them to a .csv file\n",
        "scores = []\n",
        "for i in range(len(train_sentences)):\n",
        "    scores.append(train_sentences[i].score)\n",
        "train_df[\"sentiment_score\"] = scores\n",
        "\n",
        "train_df.to_csv(\"Train_Predictions_With_Confidence_Score.csv\",index=False)"
      ],
      "metadata": {
        "id": "sCOwFHCsnLE-"
      },
      "execution_count": null,
      "outputs": []
    },
    {
      "cell_type": "code",
      "source": [
        "# Generate predictions for the unlabelled test dataset\n",
        "\n",
        "# 1. Generate test sentences\n",
        "test_df=pd.read_csv(\"/content/data/test.csv\")\n",
        "test_sentences=test_df[\"Verbatim Feedback \"].apply(lambda x: Sentence(x))\n",
        "\n",
        "# 2. Generate predictions for the test sentences\n",
        "for i in range(len(test_sentences)):\n",
        "    classifier.predict(test_sentences[i])\n",
        "    test_df[\"Sentiment (1=Positive & 0= Negative)\"][i]=test_sentences[i].labels[0].value\n",
        "\n",
        "# 3. Write the predictions to a .csv file\n",
        "test_df.to_csv(\"Test_Predictions_Without_Confidence_Score.csv\",index=False)\n",
        "\n",
        "# 4. Add the confidence score to the predictions for further analysis and write them to a .csv file\n",
        "scores = []\n",
        "for i in range(len(test_sentences)):\n",
        "    scores.append(test_sentences[i].score)\n",
        "test_df[\"Sentiment_Score\"] = scores\n",
        "\n",
        "test_df.to_csv(\"Test_Predictions_With_Confidence_Score.csv\",index=False)"
      ],
      "metadata": {
        "id": "yEaV08A0Bqj5"
      },
      "execution_count": null,
      "outputs": []
    },
    {
      "cell_type": "code",
      "source": [
        "#evaluate performance metrics of the model on the entire training dataset\n",
        "\n",
        "def run_model_metrics(samples_df, prediction, target):\n",
        "    correct = 0\n",
        "    incorrect_index = []\n",
        "\n",
        "    true_n = 0\n",
        "    false_n = 0\n",
        "    true_p = 0\n",
        "    false_p = 0\n",
        "    for i in range(len(prediction)):\n",
        "        if(prediction[i]==1 and target[i]==1):\n",
        "            true_p += 1\n",
        "            correct += 1\n",
        "        elif(prediction[i]==1 and target[i]==0):\n",
        "            false_p += 1\n",
        "            incorrect_index.append(i)\n",
        "        elif(prediction[i]==0 and target[i]==1):\n",
        "            false_n += 1\n",
        "            incorrect_index.append(i)\n",
        "        elif(prediction[i]==0 and target[i]==0):\n",
        "            true_n += 1\n",
        "            correct += 1\n",
        "            \n",
        "    precision = (true_p) / (true_p + false_p)\n",
        "    recall = (true_p) / (true_p + false_n)\n",
        "    f1 = (2 * precision * recall) / (precision + recall)\n",
        "\n",
        "    accuracy = (correct/len(target)) * 100\n",
        "    print(f\"Number of samples classified correctly : {correct}\")\n",
        "    print(f\"Number of samples classified incorrectly : {len(target) - correct}\")\n",
        "    print(f\"Accuracy of model : {accuracy}\")\n",
        "    print(f\"F1 Score : {f1}\")\n",
        "    print(\"Incorrectly classified samples:\")\n",
        "    display(samples_df.iloc[incorrect_index])\n",
        "\n",
        "target = train_df[\"label\"].to_list()\n",
        "run_model_metrics(train_df, predictions, target)"
      ],
      "metadata": {
        "id": "xAXYKweppTTl"
      },
      "execution_count": null,
      "outputs": []
    },
    {
      "cell_type": "markdown",
      "source": [
        "# To obtain inference on a new sentence"
      ],
      "metadata": {
        "id": "r2pFJK96Fgar"
      }
    },
    {
      "cell_type": "code",
      "source": [
        "text = \"ADD FEEDBACK SENTENCE HERE\"\n",
        "sentence = Sentence(text)\n",
        "classifier.predict(sentence)\n",
        "prediction = sentence.labels[0].value\n",
        "confidence = sentence.score\n",
        "print(f\"{text} : {Prediction} with a confidence of {confidence}\")"
      ],
      "metadata": {
        "id": "BWo6wFWiFfYx"
      },
      "execution_count": null,
      "outputs": []
    }
  ],
  "metadata": {
    "accelerator": "GPU",
    "colab": {
      "provenance": [],
      "collapsed_sections": [
        "U7pgKkxjFCtR",
        "C4PtJwBYE6N4"
      ]
    },
    "gpuClass": "standard",
    "kernelspec": {
      "display_name": "Python 3",
      "language": "python",
      "name": "python3"
    },
    "language_info": {
      "codemirror_mode": {
        "name": "ipython",
        "version": 3
      },
      "file_extension": ".py",
      "mimetype": "text/x-python",
      "name": "python",
      "nbconvert_exporter": "python",
      "pygments_lexer": "ipython3",
      "version": "3.10.9"
    },
    "vscode": {
      "interpreter": {
        "hash": "e7370f93d1d0cde622a1f8e1c04877d8463912d04d973331ad4851f04de6915a"
      }
    }
  },
  "nbformat": 4,
  "nbformat_minor": 0
}